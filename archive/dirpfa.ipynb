{
 "cells": [
  {
   "cell_type": "code",
   "execution_count": 21,
   "metadata": {},
   "outputs": [],
   "source": [
    "from src.models.dirpfa import DirPFAHMCSampler\n",
    "from src.data import generate_data\n",
    "\n",
    "import numpy as np"
   ]
  },
  {
   "cell_type": "code",
   "execution_count": 22,
   "metadata": {},
   "outputs": [
    {
     "name": "stdout",
     "output_type": "stream",
     "text": [
      "theta: batch: (50,) | event: (5,)\n",
      "---(50, 5)\n",
      "\n",
      "phi: batch: () | event: (5, 100)\n",
      "---(5, 100)\n",
      "\n",
      "l: batch: () | event: ()\n",
      "---()\n",
      "\n",
      "document: batch: (50,) | event: (100,)\n",
      "---(50, 100)\n",
      "\n"
     ]
    },
    {
     "name": "stderr",
     "output_type": "stream",
     "text": [
      "/Users/liutianci/Documents/2021Winter/stats551/dpfa-imdb/src/models/pfa.py:26: UserWarning: Didn't set random seed in fact.\n",
      "  warnings.warn('Didn\\'t set random seed in fact.')\n"
     ]
    }
   ],
   "source": [
    "num_topic = 5\n",
    "vocab_size = 100\n",
    "n = 50\n",
    "document = generate_data(num_topic, vocab_size, n, partial_depend=True)\n",
    "\n",
    "\n",
    "hparams = {\n",
    "    'n0': document.numpy().sum(1).mean(),\n",
    "    'topic_dist': np.full((n, num_topic ), 10.),\n",
    "    'word_dist': np.full((num_topic, vocab_size), 10.)\n",
    "    }\n",
    "\n",
    "model = DirPFAHMCSampler(vocab_size, num_topic, hparams)\n",
    "model.set_data(document)\n",
    "model.set_model(n)\n",
    "\n",
    "event = model.model.event_shape\n",
    "sample = model.model.sample()\n",
    "\n",
    "for k, v in model.model.batch_shape.items():\n",
    "    print(f'{k}: batch: {v} | event: {event[k]}')\n",
    "    print(f'---{sample[k].shape}\\n')"
   ]
  },
  {
   "cell_type": "code",
   "execution_count": 15,
   "metadata": {},
   "outputs": [
    {
     "name": "stdout",
     "output_type": "stream",
     "text": [
      "Finish sampling...\n"
     ]
    }
   ],
   "source": [
    "n_states = 100\n",
    "n_burnin = 3000\n",
    "model.sample_states(document,\n",
    "                  n_states=n_states,\n",
    "                  n_burnin=n_burnin,\n",
    "                  step_size=0.05)\n"
   ]
  },
  {
   "cell_type": "code",
   "execution_count": 16,
   "metadata": {},
   "outputs": [],
   "source": [
    "draw_samples = model.predict()\n",
    "pred_low, pred_high = np.quantile(draw_samples, [0.025, 0.975], axis=0)\n",
    "is_cover = np.all((pred_low < document, pred_high > document), axis=0)"
   ]
  },
  {
   "cell_type": "code",
   "execution_count": 17,
   "metadata": {},
   "outputs": [
    {
     "data": {
      "text/plain": [
       "array([[ 30.   ,  32.   ,  32.95 , ..., 119.475, 116.   , 118.475],\n",
       "       [ 15.475,  16.475,  21.   , ..., 141.475, 133.95 , 126.95 ],\n",
       "       [ 13.475,  17.   ,  19.95 , ..., 145.95 , 133.9  , 126.95 ],\n",
       "       ...,\n",
       "       [ 20.475,  21.475,  24.425, ..., 130.95 , 128.   , 119.   ],\n",
       "       [ 17.   ,  22.475,  24.   , ..., 134.475, 129.   , 127.95 ],\n",
       "       [ 23.   ,  27.   ,  29.   , ..., 131.425, 123.425, 124.475]])"
      ]
     },
     "execution_count": 17,
     "metadata": {},
     "output_type": "execute_result"
    }
   ],
   "source": [
    "pred_low"
   ]
  },
  {
   "cell_type": "code",
   "execution_count": 18,
   "metadata": {},
   "outputs": [
    {
     "data": {
      "text/plain": [
       "array([[ 50.525,  55.525,  57.525, ..., 164.525, 163.2  , 160.525],\n",
       "       [ 35.05 ,  36.   ,  41.525, ..., 190.525, 182.575, 173.625],\n",
       "       [ 31.   ,  35.575,  40.   , ..., 193.525, 185.1  , 169.   ],\n",
       "       ...,\n",
       "       [ 40.   ,  46.05 ,  48.   , ..., 182.   , 171.525, 173.525],\n",
       "       [ 41.05 ,  44.   ,  45.525, ..., 182.05 , 177.525, 177.1  ],\n",
       "       [ 43.   ,  51.   ,  51.   , ..., 174.05 , 169.05 , 165.   ]])"
      ]
     },
     "execution_count": 18,
     "metadata": {},
     "output_type": "execute_result"
    }
   ],
   "source": [
    "pred_high"
   ]
  },
  {
   "cell_type": "code",
   "execution_count": 19,
   "metadata": {},
   "outputs": [
    {
     "data": {
      "text/plain": [
       "<tf.Tensor: shape=(50, 100), dtype=float32, numpy=\n",
       "array([[  0.,   1.,   1., ...,  52.,  59.,  61.],\n",
       "       [  0.,   5.,  15., ..., 246., 215., 236.],\n",
       "       [  1.,   3.,   3., ..., 226., 226., 192.],\n",
       "       ...,\n",
       "       [  0.,   2.,  13., ..., 177., 152., 150.],\n",
       "       [  2.,   7.,  10., ..., 192., 161., 206.],\n",
       "       [  1.,   6.,   5., ..., 164., 130., 151.]], dtype=float32)>"
      ]
     },
     "execution_count": 19,
     "metadata": {},
     "output_type": "execute_result"
    }
   ],
   "source": [
    "document"
   ]
  },
  {
   "cell_type": "code",
   "execution_count": 20,
   "metadata": {},
   "outputs": [
    {
     "data": {
      "text/plain": [
       "0.2822"
      ]
     },
     "execution_count": 20,
     "metadata": {},
     "output_type": "execute_result"
    }
   ],
   "source": [
    "is_cover.mean()"
   ]
  }
 ],
 "metadata": {
  "kernelspec": {
   "display_name": "Python 3",
   "language": "python",
   "name": "python3"
  },
  "language_info": {
   "codemirror_mode": {
    "name": "ipython",
    "version": 3
   },
   "file_extension": ".py",
   "mimetype": "text/x-python",
   "name": "python",
   "nbconvert_exporter": "python",
   "pygments_lexer": "ipython3",
   "version": "3.8.5"
  }
 },
 "nbformat": 4,
 "nbformat_minor": 4
}
