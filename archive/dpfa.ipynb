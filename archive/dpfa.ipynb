{
 "cells": [
  {
   "cell_type": "code",
   "execution_count": 1,
   "metadata": {},
   "outputs": [],
   "source": [
    "from src.models.dpfa import DPFAHMCSampler\n",
    "from src.data import generate_data\n",
    "\n",
    "import numpy as np"
   ]
  },
  {
   "cell_type": "code",
   "execution_count": 2,
   "metadata": {},
   "outputs": [],
   "source": []
  },
  {
   "cell_type": "code",
   "execution_count": 16,
   "metadata": {},
   "outputs": [
    {
     "name": "stdout",
     "output_type": "stream",
     "text": [
      "gamma0: batch: () | event: ()\n",
      "---()\n",
      "\n",
      "gamma: batch: () | event: (5,)\n",
      "---(5,)\n",
      "\n",
      "theta: batch: (50,) | event: (5,)\n",
      "---(50, 5)\n",
      "\n",
      "w1: batch: (50,) | event: (5,)\n",
      "---(50, 5)\n",
      "\n",
      "h0: batch: () | event: (5, 5)\n",
      "---(5, 5)\n",
      "\n",
      "h: batch: (50,) | event: (5,)\n",
      "---(50, 5)\n",
      "\n",
      "phi: batch: () | event: (5, 100)\n",
      "---(5, 100)\n",
      "\n",
      "document: batch: (50,) | event: (100,)\n",
      "---(50, 100)\n",
      "\n"
     ]
    }
   ],
   "source": [
    "num_topic = 5\n",
    "vocab_size = 100\n",
    "n = 50\n",
    "document = generate_data(num_topic, vocab_size, n, partial_depend=True)\n",
    "\n",
    "hparams = {\n",
    "            'e0': 1.,\n",
    "            'f0': 0.001,\n",
    "            'c0': np.full((num_topic,), 1.),\n",
    "            'pn': np.full((n, 1), 0.5),\n",
    "            'word_dist': np.full((num_topic, vocab_size), 10.),\n",
    "            'bias0': np.full((num_topic, num_topic), 0.),\n",
    "            'bias1': np.full((1, num_topic), 0.),\n",
    "            'w1_std': np.full((n, num_topic), 10.),\n",
    "            }\n",
    "model = DPFAHMCSampler(vocab_size, num_topic, hparams)\n",
    "\n",
    "model.set_data(document)\n",
    "model.set_model(n)\n",
    "\n",
    "event = model.model.event_shape\n",
    "sample = model.model.sample()\n",
    "\n",
    "for k, v in model.model.batch_shape.items():\n",
    "    print(f'{k}: batch: {v} | event: {event[k]}')\n",
    "    print(f'---{sample[k].shape}\\n')"
   ]
  },
  {
   "cell_type": "code",
   "execution_count": 4,
   "metadata": {},
   "outputs": [
    {
     "name": "stdout",
     "output_type": "stream",
     "text": [
      "Finish sampling...\n"
     ]
    }
   ],
   "source": [
    "n_states = 100\n",
    "n_burnin = 3000\n",
    "model.sample_states(document,\n",
    "                  n_states=n_states,\n",
    "                  n_burnin=n_burnin,\n",
    "                  step_size=0.05)"
   ]
  },
  {
   "cell_type": "code",
   "execution_count": 5,
   "metadata": {},
   "outputs": [],
   "source": [
    "draw_samples = model.predict()\n",
    "pred_low, pred_high = np.quantile(draw_samples, [0.025, 0.975], axis=0)\n",
    "is_cover = np.all((pred_low < document, pred_high > document), axis=0)"
   ]
  },
  {
   "cell_type": "code",
   "execution_count": 6,
   "metadata": {},
   "outputs": [
    {
     "data": {
      "text/plain": [
       "array([[1., 1., 2., ..., 1., 1., 1.],\n",
       "       [1., 0., 1., ..., 0., 0., 0.],\n",
       "       [0., 0., 0., ..., 0., 0., 0.],\n",
       "       ...,\n",
       "       [0., 0., 0., ..., 0., 0., 0.],\n",
       "       [1., 1., 2., ..., 1., 1., 1.],\n",
       "       [1., 1., 2., ..., 1., 1., 1.]])"
      ]
     },
     "execution_count": 6,
     "metadata": {},
     "output_type": "execute_result"
    }
   ],
   "source": [
    "pred_low"
   ]
  },
  {
   "cell_type": "code",
   "execution_count": 7,
   "metadata": {},
   "outputs": [
    {
     "data": {
      "text/plain": [
       "array([[10.   ,  8.   , 12.   , ..., 10.   , 10.   ,  9.   ],\n",
       "       [ 8.   ,  6.   ,  7.   , ...,  7.   ,  6.   ,  6.   ],\n",
       "       [ 0.   ,  0.   ,  0.   , ...,  0.   ,  0.   ,  0.   ],\n",
       "       ...,\n",
       "       [ 0.   ,  0.   ,  0.   , ...,  0.   ,  0.   ,  0.   ],\n",
       "       [10.   ,  8.   , 11.   , ..., 10.   , 10.   , 10.   ],\n",
       "       [11.   ,  8.   , 11.   , ...,  9.525, 10.   , 10.   ]])"
      ]
     },
     "execution_count": 7,
     "metadata": {},
     "output_type": "execute_result"
    }
   ],
   "source": [
    "pred_high"
   ]
  },
  {
   "cell_type": "code",
   "execution_count": 8,
   "metadata": {},
   "outputs": [
    {
     "data": {
      "text/plain": [
       "<tf.Tensor: shape=(200, 100), dtype=float32, numpy=\n",
       "array([[  3.,   2.,   6., ..., 284., 200., 245.],\n",
       "       [  4.,   1.,  11., ..., 170., 128., 210.],\n",
       "       [  3.,   4.,   8., ..., 368., 283., 347.],\n",
       "       ...,\n",
       "       [  3.,   3.,  11., ..., 191., 137., 230.],\n",
       "       [  2.,   3.,  13., ..., 335., 253., 330.],\n",
       "       [  3.,   1.,  10., ..., 174., 161., 213.]], dtype=float32)>"
      ]
     },
     "execution_count": 8,
     "metadata": {},
     "output_type": "execute_result"
    }
   ],
   "source": [
    "document"
   ]
  },
  {
   "cell_type": "code",
   "execution_count": 9,
   "metadata": {},
   "outputs": [
    {
     "data": {
      "text/plain": [
       "0.03155"
      ]
     },
     "execution_count": 9,
     "metadata": {},
     "output_type": "execute_result"
    }
   ],
   "source": [
    "is_cover.mean()"
   ]
  }
 ],
 "metadata": {
  "kernelspec": {
   "display_name": "Python 3",
   "language": "python",
   "name": "python3"
  },
  "language_info": {
   "codemirror_mode": {
    "name": "ipython",
    "version": 3
   },
   "file_extension": ".py",
   "mimetype": "text/x-python",
   "name": "python",
   "nbconvert_exporter": "python",
   "pygments_lexer": "ipython3",
   "version": "3.8.5"
  }
 },
 "nbformat": 4,
 "nbformat_minor": 4
}
