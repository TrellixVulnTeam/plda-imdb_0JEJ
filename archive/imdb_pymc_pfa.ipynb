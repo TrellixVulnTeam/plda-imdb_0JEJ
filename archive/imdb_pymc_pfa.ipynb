{
 "cells": [
  {
   "cell_type": "code",
   "execution_count": 1,
   "metadata": {},
   "outputs": [
    {
     "name": "stderr",
     "output_type": "stream",
     "text": [
      "WARNING (theano.tensor.blas): Using NumPy C-API based implementation for BLAS functions.\n"
     ]
    },
    {
     "name": "stdout",
     "output_type": "stream",
     "text": [
      "env: THEANO_FLAGS=device=cpu,floatX=float64\n"
     ]
    },
    {
     "name": "stderr",
     "output_type": "stream",
     "text": [
      "[nltk_data] Downloading package punkt to /home/liutianc/nltk_data...\n",
      "[nltk_data]   Package punkt is already up-to-date!\n",
      "[nltk_data] Downloading package stopwords to\n",
      "[nltk_data]     /home/liutianc/nltk_data...\n",
      "[nltk_data]   Package stopwords is already up-to-date!\n"
     ]
    }
   ],
   "source": [
    "%matplotlib inline\n",
    "import os\n",
    "import sys\n",
    "\n",
    "from collections import OrderedDict\n",
    "from copy import deepcopy\n",
    "from time import time\n",
    "\n",
    "import matplotlib.pyplot as plt\n",
    "import numpy as np\n",
    "import scipy.special as sc\n",
    "\n",
    "import pymc3 as pm\n",
    "import seaborn as sns\n",
    "import theano\n",
    "import theano.tensor as tt\n",
    "\n",
    "from pymc3 import Dirichlet, Poisson, Gamma\n",
    "from pymc3 import math as pmmath\n",
    "# from sklearn.datasets import fetch_20newsgroups\n",
    "from sklearn.feature_extraction.text import CountVectorizer, TfidfVectorizer\n",
    "from theano import shared\n",
    "from theano.sandbox.rng_mrg import MRG_RandomStreams\n",
    "\n",
    "%env THEANO_FLAGS=device=cpu,floatX=float64\n",
    "\n",
    "\n",
    "from data_prep import prepare_sparse_matrix"
   ]
  },
  {
   "cell_type": "code",
   "execution_count": 3,
   "metadata": {},
   "outputs": [],
   "source": [
    "n_words = 3000\n",
    "n_samples = 10000\n",
    "\n",
    "tf_vectorizer, docs_tr, docs_te = prepare_sparse_matrix(n_samples, n_samples // 10, n_words)"
   ]
  },
  {
   "cell_type": "code",
   "execution_count": 4,
   "metadata": {},
   "outputs": [],
   "source": [
    "feature_names = tf_vectorizer.get_feature_names()"
   ]
  },
  {
   "cell_type": "code",
   "execution_count": 5,
   "metadata": {},
   "outputs": [
    {
     "data": {
      "text/plain": [
       "808287"
      ]
     },
     "execution_count": 5,
     "metadata": {},
     "output_type": "execute_result"
    }
   ],
   "source": [
    "n_tokens = np.sum(docs_tr[docs_tr.nonzero()])\n",
    "n_tokens"
   ]
  },
  {
   "cell_type": "code",
   "execution_count": 6,
   "metadata": {},
   "outputs": [],
   "source": [
    "def log_prob(beta, theta):\n",
    "    \"\"\"Returns the log-likelihood function for given documents.\n",
    "\n",
    "    K : number of topics in the model\n",
    "    V : number of words (size of vocabulary)\n",
    "    D : number of documents (in a mini-batch)\n",
    "\n",
    "    Parameters\n",
    "    ----------\n",
    "    beta : tensor (K x V)\n",
    "        Word distributions.\n",
    "    theta : tensor (D x K)\n",
    "        Topic distributions for documents.\n",
    "    \"\"\"\n",
    "\n",
    "    def ll_docs_f(docs):\n",
    "        dixs, vixs = docs.nonzero()\n",
    "        vfreqs = docs[dixs, vixs]\n",
    "        \"\"\"\n",
    "        \\log p(d | theta, beta) = \\sum_w \\log p(w | theta, beta)\n",
    "                                = \\sum_w \\log Poisson(w | theta @ beta) \n",
    "                                = \\sum_w \\log Poisson(w | \\sum_k theta_k * beta_k)\n",
    "                                = \\sum_w \\log Poisson(w | \\sum_k \\exp( \\log theta_k + \\log beta_k ))\n",
    "                                = \\sum_w - \\sum_k \\exp( \\log theta_k + \\log beta_k ) + w * \\log \\sum_k \\exp( \\log theta_k + \\log beta_k ) - \\log gamma(w + 1)\n",
    "        \"\"\"\n",
    "        ll_docs = (\n",
    "            (theta[dixs] + beta.T[vixs]).sum(1) + \n",
    "            vfreqs * pmmath.logsumexp(tt.log(theta[dixs]) + tt.log(beta.T[vixs]), axis=1).ravel() - \\\n",
    "            pm.distributions.special.gammaln(vfreqs + 1)\n",
    "        )\n",
    "        \n",
    "        ll_docs = (\n",
    "            vfreqs * (pmmath.logsumexp(tt.log(theta[dixs]) + tt.log(beta.T[vixs]), axis=1).ravel()) \\\n",
    "             - tt.exp(pmmath.logsumexp(tt.log(theta[dixs]) + tt.log(beta.T[vixs],), axis=1)).ravel() \\\n",
    "             - pm.distributions.special.gammaln(vfreqs + 1)\n",
    "        )\n",
    "        \n",
    "        \n",
    "        # Per-word log-likelihood times num of tokens in the whole dataset\n",
    "        return tt.sum(ll_docs) / (tt.sum(vfreqs) + 1e-9) * n_tokens\n",
    "\n",
    "    return ll_docs_f"
   ]
  },
  {
   "cell_type": "code",
   "execution_count": 7,
   "metadata": {},
   "outputs": [
    {
     "name": "stderr",
     "output_type": "stream",
     "text": [
      "/home/liutianc/miniconda3/lib/python3.7/site-packages/pymc3/data.py:246: FutureWarning: Using a non-tuple sequence for multidimensional indexing is deprecated; use `arr[tuple(seq)]` instead of `arr[seq]`. In the future this will be interpreted as an array index, `arr[np.array(seq)]`, which will result either in an error or a different result.\n",
      "  self.shared = theano.shared(data[in_memory_slc])\n",
      "/home/liutianc/miniconda3/lib/python3.7/site-packages/theano/tensor/subtensor.py:2197: FutureWarning: Using a non-tuple sequence for multidimensional indexing is deprecated; use `arr[tuple(seq)]` instead of `arr[seq]`. In the future this will be interpreted as an array index, `arr[np.array(seq)]`, which will result either in an error or a different result.\n",
      "  rval = inputs[0].__getitem__(inputs[1:])\n",
      "/home/liutianc/miniconda3/lib/python3.7/site-packages/theano/tensor/subtensor.py:2197: FutureWarning: Using a non-tuple sequence for multidimensional indexing is deprecated; use `arr[tuple(seq)]` instead of `arr[seq]`. In the future this will be interpreted as an array index, `arr[np.array(seq)]`, which will result either in an error or a different result.\n",
      "  rval = inputs[0].__getitem__(inputs[1:])\n",
      "/home/liutianc/miniconda3/lib/python3.7/site-packages/theano/tensor/subtensor.py:2197: FutureWarning: Using a non-tuple sequence for multidimensional indexing is deprecated; use `arr[tuple(seq)]` instead of `arr[seq]`. In the future this will be interpreted as an array index, `arr[np.array(seq)]`, which will result either in an error or a different result.\n",
      "  rval = inputs[0].__getitem__(inputs[1:])\n"
     ]
    },
    {
     "name": "stdout",
     "output_type": "stream",
     "text": [
      "Done\n"
     ]
    }
   ],
   "source": [
    "n_topics = 20\n",
    "minibatch_size = 128\n",
    "\n",
    "avg_len = docs_tr.sum(1).mean()\n",
    "\n",
    "doc_t_minibatch = pm.Minibatch(docs_tr.toarray(), minibatch_size)\n",
    "doc_t = shared(docs_tr.toarray()[:minibatch_size])\n",
    "\n",
    "e0 = c0 = 1.\n",
    "f0 = .01\n",
    "pn = .5\n",
    "\n",
    "with pm.Model() as model:\n",
    "    beta = Dirichlet(\n",
    "        \"beta\",\n",
    "        a=pm.floatX((1.0 / n_topics) * np.ones((n_topics, n_words))),\n",
    "        shape=(n_topics, n_words),\n",
    "    )\n",
    "\n",
    "    gamma0 = Gamma(\n",
    "        \"gamma0\", \n",
    "        alpha=pm.floatX(e0 * np.ones((1, n_topics))),\n",
    "        beta=pm.floatX(f0 * np.ones((1, n_topics))),\n",
    "        shape=(minibatch_size, n_topics)\n",
    "    )\n",
    "    \n",
    "    gamma = Gamma(\n",
    "        \"gamma\",\n",
    "        alpha=gamma0, \n",
    "        beta=c0,\n",
    "        shape=(minibatch_size, n_topics)\n",
    "    )\n",
    "\n",
    "    theta = Gamma(\n",
    "        \"theta\",\n",
    "        alpha=gamma,\n",
    "        beta=pm.floatX((pn / (1. - pn)) * np.ones((minibatch_size, n_topics))),\n",
    "        shape=(minibatch_size, n_topics),\n",
    "        total_size=n_samples,\n",
    "    )\n",
    "\n",
    "    # Note, that we defined likelihood with scaling, so here we need no additional `total_size` kwarg\n",
    "    doc = pm.DensityDist(\"doc\", log_prob(beta, theta), observed=doc_t)\n",
    "\n",
    "#     step = pm.Metropolis()\n",
    "#     trace = pm.sample(1000, step)\n",
    "    \n",
    "print('Done')"
   ]
  },
  {
   "cell_type": "markdown",
   "metadata": {},
   "source": [
    "# Use VAE to learn posterior approximation for theta"
   ]
  },
  {
   "cell_type": "code",
   "execution_count": 10,
   "metadata": {},
   "outputs": [],
   "source": [
    "class LDAEncoder:\n",
    "    \"\"\"Encode (term-frequency) document vectors to variational means and (log-transformed) stds.\"\"\"\n",
    "\n",
    "    def __init__(self, n_words, n_hidden, n_topics, p_corruption=0, random_seed=1):\n",
    "        rng = np.random.RandomState(random_seed)\n",
    "        self.n_words = n_words\n",
    "        self.n_hidden = n_hidden\n",
    "        self.n_topics = n_topics\n",
    "        self.w0 = shared(0.01 * rng.randn(n_words, n_hidden).ravel(), name=\"w0\")\n",
    "        self.b0 = shared(0.01 * rng.randn(n_hidden), name=\"b0\")\n",
    "        \n",
    "        self.w1 = shared(0.01 * rng.randn(n_hidden, n_hidden).ravel(), name=\"w1\")\n",
    "        self.b1 = shared(0.01 * rng.randn(n_hidden), name=\"b1\")\n",
    "        \n",
    "        self.w2 = shared(0.01 * rng.randn(n_hidden, 2 * (n_topics - 1)).ravel(), name=\"w2\")\n",
    "        self.b2 = shared(0.01 * rng.randn(2 * (n_topics - 1)), name=\"b2\")\n",
    "        self.rng = MRG_RandomStreams(seed=random_seed)\n",
    "\n",
    "    def encode(self, xs):\n",
    "\n",
    "        w0 = self.w0.reshape((self.n_words, self.n_hidden))\n",
    "        w1 = self.w1.reshape((self.n_hidden, self.n_hidden))\n",
    "        w2 = self.w2.reshape((self.n_hidden, 2 * (self.n_topics - 1)))\n",
    "\n",
    "        hs = tt.tanh(xs.dot(w0) + self.b0)\n",
    "        hs = tt.tanh(hs.dot(w1) + self.b1)\n",
    "        zs = hs.dot(w2) + self.b2\n",
    "        zs_mean = zs[:, : (self.n_topics - 1)]\n",
    "        zs_rho = zs[:, (self.n_topics - 1) :]\n",
    "        return {\"mu\": zs_mean, \"rho\": zs_rho}\n",
    "\n",
    "    def get_params(self):\n",
    "        return [self.w0, self.b0, self.w1, self.b1, self.w2, self.b2]"
   ]
  },
  {
   "cell_type": "code",
   "execution_count": 11,
   "metadata": {},
   "outputs": [
    {
     "data": {
      "text/plain": [
       "[w0, b0, w1, b1, w2, b2]"
      ]
     },
     "execution_count": 11,
     "metadata": {},
     "output_type": "execute_result"
    }
   ],
   "source": [
    "encoder = LDAEncoder(n_words=n_words, n_hidden=100, n_topics=n_topics+1, p_corruption=0.0)\n",
    "local_RVs = OrderedDict([(theta, encoder.encode(doc_t))])\n",
    "# local_RVs\n",
    "\n",
    "encoder_params = encoder.get_params()\n",
    "encoder_params"
   ]
  },
  {
   "cell_type": "code",
   "execution_count": 12,
   "metadata": {},
   "outputs": [
    {
     "name": "stderr",
     "output_type": "stream",
     "text": [
      "  0%|          | 0/3000 [00:00<?, ?it/s]/home/liutianc/miniconda3/lib/python3.7/site-packages/theano/tensor/subtensor.py:2197: FutureWarning: Using a non-tuple sequence for multidimensional indexing is deprecated; use `arr[tuple(seq)]` instead of `arr[seq]`. In the future this will be interpreted as an array index, `arr[np.array(seq)]`, which will result either in an error or a different result.\n",
      "  rval = inputs[0].__getitem__(inputs[1:])\n",
      "Average Loss = 1.2029e+06: 100%|██████████| 3000/3000 [05:59<00:00,  8.35it/s]\n",
      "Finished [100%]: Average Loss = 1.202e+06\n"
     ]
    },
    {
     "data": {
      "text/plain": [
       "<pymc3.variational.approximations.MeanField at 0x7fa2c4234b90>"
      ]
     },
     "execution_count": 12,
     "metadata": {},
     "output_type": "execute_result"
    }
   ],
   "source": [
    "η = .01\n",
    "s = shared(η)\n",
    "\n",
    "\n",
    "def reduce_rate(a, h, i):\n",
    "    s.set_value(η / ((i / minibatch_size) + 1) ** 0.7)\n",
    "\n",
    "\n",
    "with model:\n",
    "    approx = pm.MeanField(local_rv=local_RVs)\n",
    "    approx.scale_cost_to_minibatch = False\n",
    "    inference = pm.KLqp(approx)\n",
    "    \n",
    "inference.fit(\n",
    "    3000,\n",
    "    callbacks=[reduce_rate],\n",
    "    obj_optimizer=pm.adam(learning_rate=s),\n",
    "    more_obj_params=encoder_params,\n",
    "    total_grad_norm_constraint=200,\n",
    "    more_replacements={doc_t: doc_t_minibatch},\n",
    ")\n"
   ]
  },
  {
   "cell_type": "code",
   "execution_count": 13,
   "metadata": {},
   "outputs": [
    {
     "data": {
      "image/png": "[encoded data removed]",
      "text/plain": [
       "<Figure size 432x288 with 1 Axes>"
      ]
     },
     "metadata": {
      "needs_background": "light"
     },
     "output_type": "display_data"
    }
   ],
   "source": [
    "plt.plot(approx.hist[10:]);"
   ]
  },
  {
   "cell_type": "code",
   "execution_count": 14,
   "metadata": {},
   "outputs": [
    {
     "name": "stdout",
     "output_type": "stream",
     "text": [
      "Topic #0: show ,like ,would ,much ,bad ,book ,films ,really ,people ,see\n",
      "Topic #1: show ,like ,also ,horror ,bad ,good ,films ,even ,little ,story\n",
      "Topic #2: like ,even ,would ,show ,book ,really ,horror ,scenes ,watch ,get\n",
      "Topic #3: like ,good ,show ,people ,even ,characters ,could ,book ,bad ,would\n",
      "Topic #4: bad ,characters ,really ,show ,minutes ,like ,get ,book ,pretty ,horror\n",
      "Topic #5: show ,like ,see ,films ,character ,time ,much ,scene ,people ,original\n",
      "Topic #6: show ,would ,character ,even ,like ,people ,get ,time ,films ,funny\n",
      "Topic #7: movies ,would ,like ,story ,characters ,book ,good ,much ,make ,think\n",
      "Topic #8: show ,films ,people ,like ,never ,book ,first ,good ,time ,bad\n",
      "Topic #9: show ,bad ,time ,like ,would ,even ,funny ,book ,get ,people\n",
      "Topic #10: really ,like ,good ,bad ,characters ,show ,see ,movies ,well ,films\n",
      "Topic #11: horror ,bad ,people ,would ,good ,book ,first ,see ,could ,like\n",
      "Topic #12: bad ,like ,man ,characters ,could ,plot ,even ,see ,time ,book\n",
      "Topic #13: good ,show ,book ,story ,movies ,would ,make ,know ,plot ,people\n",
      "Topic #14: show ,story ,bad ,like ,people ,really ,even ,would ,films ,get\n",
      "Topic #15: show ,like ,story ,movies ,even ,would ,character ,funny ,horror ,really\n",
      "Topic #16: show ,really ,like ,time ,book ,bad ,characters ,something ,acting ,good\n",
      "Topic #17: bad ,show ,really ,would ,good ,story ,book ,much ,make ,first\n",
      "Topic #18: like ,story ,bad ,people ,films ,even ,show ,time ,character ,first\n",
      "Topic #19: like ,book ,show ,also ,movies ,character ,bad ,would ,really ,get\n"
     ]
    }
   ],
   "source": [
    "def print_top_words(beta, feature_names, n_top_words=10):\n",
    "    for i in range(len(beta)):\n",
    "        print(\n",
    "            (\"Topic #%d: \" % i)\n",
    "            + \" ,\".join([feature_names[j] for j in beta[i].argsort()[: -n_top_words - 1 : -1]])\n",
    "        )\n",
    "\n",
    "\n",
    "doc_t.set_value(docs_tr.toarray())\n",
    "samples = pm.sample_approx(approx, draws=100)\n",
    "beta_pymc3 = samples[\"beta\"].mean(axis=0)\n",
    "\n",
    "print_top_words(beta_pymc3, feature_names)"
   ]
  },
  {
   "cell_type": "code",
   "execution_count": 15,
   "metadata": {},
   "outputs": [],
   "source": [
    "def calc_pp(ws, thetas, beta, wix):\n",
    "    \n",
    "    rate = thetas.dot(beta[:, wix])\n",
    "    return ws * np.log(rate) - rate - sc.gammaln(ws + 1)\n",
    "\n",
    "def eval_lda(transform, beta, docs_te, wixs):\n",
    "    \"\"\"Evaluate LDA model by log predictive probability.\n",
    "\n",
    "    Parameters\n",
    "    ----------\n",
    "    transform: Python function\n",
    "        Transform document vectors to posterior mean of topic proportions.\n",
    "    wixs: iterable of int\n",
    "        Word indices to be held-out.\n",
    "    \"\"\"\n",
    "    lpss = []\n",
    "    docs_ = deepcopy(docs_te)\n",
    "    thetass = []\n",
    "    wss = []\n",
    "    total_words = 0\n",
    "    for wix in wixs:\n",
    "        ws = docs_te[:, wix].ravel()\n",
    "        if 0 < ws.sum():\n",
    "            # Hold-out\n",
    "            docs_[:, wix] = 0\n",
    "\n",
    "            # Topic distributions\n",
    "            thetas = transform(docs_)\n",
    "\n",
    "            # Predictive log probability\n",
    "            lpss.append(calc_pp(ws, thetas, beta, wix))\n",
    "\n",
    "            docs_[:, wix] = ws\n",
    "            thetass.append(thetas)\n",
    "            wss.append(ws)\n",
    "            total_words += ws.sum()\n",
    "        else:\n",
    "            thetass.append(None)\n",
    "            wss.append(None)\n",
    "\n",
    "    # Log-probability\n",
    "    lp = np.sum(np.hstack(lpss)) / total_words\n",
    "\n",
    "    return {\"lp\": lp, \"thetass\": thetass, \"beta\": beta, \"wss\": wss}"
   ]
  },
  {
   "cell_type": "code",
   "execution_count": 16,
   "metadata": {},
   "outputs": [
    {
     "name": "stderr",
     "output_type": "stream",
     "text": [
      "/home/liutianc/miniconda3/lib/python3.7/site-packages/theano/scan_module/scan_perform_ext.py:76: UserWarning: The file scan_perform.c is not available. This donot happen normally. You are probably in a strangesetup. This mean Theano can not use the cython code for scan. If youwant to remove this warning, use the Theano flag'cxx=' (set to an empty string) to disable all ccode generation.\n",
      "  \"The file scan_perform.c is not available. This do\"\n"
     ]
    }
   ],
   "source": [
    "inp = tt.matrix(dtype=\"int64\")\n",
    "sample_vi_theta = theano.function(\n",
    "    [inp], approx.sample_node(approx.model.theta, 100, more_replacements={doc_t: inp}).mean(0)\n",
    ")\n",
    "\n",
    "\n",
    "def transform_pymc3(docs):\n",
    "    return sample_vi_theta(docs)"
   ]
  },
  {
   "cell_type": "code",
   "execution_count": 17,
   "metadata": {},
   "outputs": [
    {
     "name": "stdout",
     "output_type": "stream",
     "text": [
      "Predictive log prob (pm3) = -16.039962837541385\n"
     ]
    }
   ],
   "source": [
    "result_pymc3 = eval_lda(\\\n",
    "      transform_pymc3, beta_pymc3, docs_tr.toarray(), np.arange(100)\\\n",
    "  )\n",
    "\n",
    "print(\"Predictive log prob (pm3) = {}\".format(result_pymc3[\"lp\"]))"
   ]
  },
  {
   "cell_type": "code",
   "execution_count": 39,
   "metadata": {},
   "outputs": [
    {
     "name": "stderr",
     "output_type": "stream",
     "text": [
      "/home/liutianc/miniconda3/lib/python3.7/site-packages/theano/scan_module/scan_perform_ext.py:76: UserWarning: The file scan_perform.c is not available. This donot happen normally. You are probably in a strangesetup. This mean Theano can not use the cython code for scan. If youwant to remove this warning, use the Theano flag'cxx=' (set to an empty string) to disable all ccode generation.\n",
      "  \"The file scan_perform.c is not available. This do\"\n"
     ]
    }
   ],
   "source": [
    "inp = tt.matrix(dtype=\"int64\")\n",
    "sample_vi_theta = theano.function(\n",
    "    [inp], approx.sample_node(approx.model.theta, 1000, more_replacements={doc_t: inp})\n",
    ")\n",
    "\n",
    "def transform_pymc3(docs):\n",
    "    return sample_vi_theta(docs)\n",
    "\n",
    "pymc3_test = transform_pymc3(docs_te.toarray())"
   ]
  },
  {
   "cell_type": "code",
   "execution_count": 40,
   "metadata": {},
   "outputs": [
    {
     "data": {
      "text/plain": [
       "(1000, 1000, 20)"
      ]
     },
     "execution_count": 40,
     "metadata": {},
     "output_type": "execute_result"
    }
   ],
   "source": [
    "pymc3_test.shape"
   ]
  },
  {
   "cell_type": "code",
   "execution_count": 41,
   "metadata": {},
   "outputs": [],
   "source": [
    "theta_low, theta_high = np.quantile(pymc3_test[0], [0.025, 0.975], axis=0)"
   ]
  },
  {
   "cell_type": "code",
   "execution_count": 42,
   "metadata": {},
   "outputs": [],
   "source": [
    "test = docs_te.toarray()\n",
    "real_ln = test.sum(1)\n",
    "# real_ln"
   ]
  },
  {
   "cell_type": "code",
   "execution_count": 46,
   "metadata": {},
   "outputs": [],
   "source": [
    "theta_mean = pymc3_test.mean(0)"
   ]
  },
  {
   "cell_type": "code",
   "execution_count": 47,
   "metadata": {},
   "outputs": [],
   "source": [
    "rate = theta_mean.dot(beta_pymc3)\n",
    "pp_test = (test * np.log(rate) - rate - sc.gammaln(test + 1)).sum(1) / real_ln"
   ]
  },
  {
   "cell_type": "code",
   "execution_count": 48,
   "metadata": {},
   "outputs": [
    {
     "data": {
      "text/plain": [
       "-25.342319846072716"
      ]
     },
     "execution_count": 48,
     "metadata": {},
     "output_type": "execute_result"
    }
   ],
   "source": [
    "pp_test.mean()"
   ]
  },
  {
   "cell_type": "code",
   "execution_count": 49,
   "metadata": {},
   "outputs": [
    {
     "data": {
      "text/plain": [
       "[<matplotlib.lines.Line2D at 0x7fa2c07c9d90>]"
      ]
     },
     "execution_count": 49,
     "metadata": {},
     "output_type": "execute_result"
    },
    {
     "data": {
      "image/png": "[encoded data removed]",
      "text/plain": [
       "<Figure size 432x288 with 1 Axes>"
      ]
     },
     "metadata": {
      "needs_background": "light"
     },
     "output_type": "display_data"
    }
   ],
   "source": [
    "plt.plot(real_ln, pp_test, 'o')"
   ]
  },
  {
   "cell_type": "code",
   "execution_count": 53,
   "metadata": {},
   "outputs": [
    {
     "data": {
      "text/plain": [
       "array([1365.1087076 , 1353.71070229, 1352.63359403, 1358.04225792,\n",
       "       1353.91982393, 1355.42665832, 1352.71910575, 1353.6670244 ,\n",
       "       1356.58429541, 1368.80786301, 1373.1499005 , 1370.83107704,\n",
       "       1359.328897  , 1355.6251168 , 1354.48572135, 1354.60196367,\n",
       "       1354.88125134, 1354.44713904, 1368.66955241, 1354.17440801,\n",
       "       1371.17564704, 1354.24948801, 1359.05409356, 1355.76419016,\n",
       "       1359.88584774, 1359.19826649, 1354.63175221, 1357.27556306,\n",
       "       1425.06678307, 1353.3906922 , 1368.01409579, 1353.65399863,\n",
       "       1354.85981158, 1355.16239829, 1363.49490763, 1356.35356016,\n",
       "       1383.69470062, 1396.38265788, 1355.1702859 , 1361.27217033,\n",
       "       1360.45209459, 1358.2307704 , 1371.28470368, 1390.48647101,\n",
       "       1353.76346013, 1404.31053129, 1355.71176187, 1355.40673704,\n",
       "       1360.4822011 , 1376.35317394, 1355.62992283, 1357.77666678,\n",
       "       1361.73744846, 1355.077941  , 1405.51117859, 1355.26388887,\n",
       "       1368.96063699, 1354.12599189, 1354.96159015, 1354.53955633,\n",
       "       1355.41599255, 1369.29958317, 1356.87522607, 1360.93288264,\n",
       "       1362.6328554 , 1363.81498525, 1378.49938649, 1361.95752844,\n",
       "       1361.65166558, 1376.16320383, 1397.53351203, 1413.03407725,\n",
       "       1356.51488704, 1361.89176686, 1375.68297383, 1365.6948427 ,\n",
       "       1358.58566961, 1355.1779268 , 1357.32048577, 1398.05524425,\n",
       "       1372.29643277, 1357.16759505, 1360.64786177, 1373.38257385,\n",
       "       1355.18059922, 1381.75338533, 1367.21900738, 1357.69359328,\n",
       "       1355.47837007, 1357.30624554, 1358.42161918, 1354.81897684,\n",
       "       1359.92874533, 1359.29594744, 1355.53708738, 1358.86735013,\n",
       "       1362.72181723, 1354.55098759, 1362.3143411 , 1359.90867318,\n",
       "       1358.76303461, 1360.48279365, 1354.77597311, 1390.01645897,\n",
       "       1358.51804475, 1373.06715442, 1358.51151531, 1377.20283813,\n",
       "       1379.71049861, 1380.403637  , 1355.35641866, 1408.22275213,\n",
       "       1361.13584063, 1382.15835803, 1364.50965409, 1358.43129689,\n",
       "       1353.76272159, 1356.89475498, 1367.506982  , 1382.39678068,\n",
       "       1367.40212193, 1358.19040737, 1356.66992598, 1354.62318161,\n",
       "       1357.64089943, 1355.50214973, 1351.71962545, 1357.36546146,\n",
       "       1366.87318814, 1356.30310933, 1377.58366059, 1374.37117638,\n",
       "       1350.3813319 , 1353.97739326, 1393.0848678 , 1362.88753356,\n",
       "       1362.91549625, 1357.39462286, 1356.46560579, 1353.70663664,\n",
       "       1354.06159265, 1355.40724088, 1355.15356995, 1355.31985029,\n",
       "       1362.06406106, 1352.83828929, 1356.46536069, 1353.78480934,\n",
       "       1355.69396338, 1358.94701279, 1358.1764845 , 1356.80597572,\n",
       "       1352.89097514, 1355.68797944, 1353.86970494, 1353.72330441,\n",
       "       1363.34852639, 1354.39756012, 1354.39323945, 1356.26622294,\n",
       "       1355.32392803, 1355.69765907, 1357.70698325, 1361.60478481,\n",
       "       1361.74648801, 1353.91077027, 1386.88242535, 1381.95124992,\n",
       "       1420.67123036, 1357.68283074, 1357.22147575, 1353.04249135,\n",
       "       1428.2626253 , 1354.66422201, 1356.13805828, 1353.5930414 ,\n",
       "       1362.32945278, 1355.26423244, 1353.96606393, 1359.02765157,\n",
       "       1384.41202978, 1355.08824038, 1354.39905985, 1354.41339636,\n",
       "       1353.93063098, 1393.00255887, 1356.52651668, 1388.21424874,\n",
       "       1373.89660768, 1371.28693848, 1353.91554148, 1353.03480289,\n",
       "       1390.06973776, 1357.9851245 , 1414.02267221, 1356.63690077,\n",
       "       1406.91172089, 1353.28887392, 1358.52988706, 1358.77880869,\n",
       "       1357.27640613, 1359.10731923, 1367.28000529, 1353.26337607,\n",
       "       1365.14884798, 1357.5911981 , 1369.05972241, 1352.72381056,\n",
       "       1365.17279579, 1356.10448666, 1355.26981562, 1354.71975214,\n",
       "       1353.4629346 , 1357.86262519, 1374.78728019, 1359.75018153,\n",
       "       1363.56915633, 1370.51183495, 1406.66605179, 1368.9175108 ,\n",
       "       1358.46970071, 1357.67531588, 1353.63525463, 1361.9290726 ,\n",
       "       1360.12638418, 1354.94785235, 1360.45646981, 1368.34907911,\n",
       "       1390.49203399, 1356.0767516 , 1351.72709077, 1372.32273976,\n",
       "       1357.10412585, 1373.21847407, 1355.38275752, 1354.02096012,\n",
       "       1380.60725994, 1353.62044785, 1360.40633145, 1353.68676603,\n",
       "       1360.30316582, 1356.3194363 , 1356.67902566, 1353.25738562,\n",
       "       1354.79597528, 1356.33137472, 1354.72164433, 1356.42369733,\n",
       "       1354.3771529 , 1355.34799751, 1356.54016175, 1386.1868919 ,\n",
       "       1353.95917141, 1354.01561281, 1361.54432369, 1356.31406273,\n",
       "       1359.04156867, 1354.70510599, 1357.30610106, 1364.4938833 ,\n",
       "       1353.22786257, 1373.90387245, 1355.51018848, 1359.24169141,\n",
       "       1383.10184072, 1367.38286522, 1355.93018676, 1356.15725296,\n",
       "       1354.11854328, 1363.56226111, 1367.58512457, 1355.61066133,\n",
       "       1358.55362646, 1355.96467666, 1354.49516369, 1361.54213348,\n",
       "       1407.96537154, 1354.88031563, 1352.50255934, 1353.72963047,\n",
       "       1358.72934874, 1354.00456676, 1353.91693946, 1385.74070103,\n",
       "       1354.26348463, 1394.8950003 , 1360.85516091, 1356.58726921,\n",
       "       1403.82919081, 1358.62259808, 1359.5215503 , 1356.41681285,\n",
       "       1352.68333913, 1375.75816942, 1354.15859774, 1353.5593389 ,\n",
       "       1354.10462303, 1357.67716789, 1359.44724525, 1355.42780515,\n",
       "       1362.17569316, 1371.71527313, 1365.15757547, 1356.76773295,\n",
       "       1351.97493096, 1358.33467731, 1383.4304552 , 1356.33631497,\n",
       "       1355.85281193, 1358.14291928, 1359.35460452, 1356.58350318,\n",
       "       1366.73495769, 1360.59860082, 1356.46328222, 1361.30110758,\n",
       "       1356.25432359, 1369.20133248, 1356.69887305, 1357.15459517,\n",
       "       1353.44749077, 1351.60988738, 1363.87078321, 1381.3729867 ,\n",
       "       1355.67547551, 1357.07360192, 1355.30175327, 1414.95053177,\n",
       "       1354.75278716, 1404.04381447, 1359.18270355, 1352.50677489,\n",
       "       1357.79937976, 1355.89822417, 1354.97772934, 1361.15267884,\n",
       "       1355.54223208, 1356.31101881, 1352.78571918, 1385.49324418,\n",
       "       1419.99284629, 1360.91243797, 1378.11382186, 1356.90010039,\n",
       "       1356.98935872, 1378.21789362, 1355.68142868, 1357.95424334,\n",
       "       1357.00744899, 1354.2028044 , 1364.04743389, 1356.44577078,\n",
       "       1356.36863704, 1355.43450821, 1358.24204645, 1353.15722481,\n",
       "       1356.93296109, 1352.89198262, 1371.51246138, 1359.59364839,\n",
       "       1368.04003117, 1426.60858813, 1353.77440107, 1357.05988404,\n",
       "       1377.79898071, 1356.09081562, 1390.45266206, 1356.67316881,\n",
       "       1356.90763289, 1360.66918006, 1355.63335559, 1354.70123626,\n",
       "       1354.78501531, 1354.23312684, 1363.08876962, 1355.77369682,\n",
       "       1362.17677888, 1355.40366259, 1362.70767252, 1354.77031017,\n",
       "       1371.02797683, 1354.87758251, 1375.27728618, 1399.93059703,\n",
       "       1385.26628718, 1382.05085024, 1361.73447326, 1367.77938588,\n",
       "       1356.82285529, 1382.46044149, 1373.63807745, 1364.49105136,\n",
       "       1362.91004397, 1409.76269964, 1354.71097013, 1358.50389875,\n",
       "       1362.76679137, 1375.18879422, 1362.21443589, 1359.8458772 ,\n",
       "       1353.5172762 , 1393.46886454, 1356.62981699, 1360.18720306,\n",
       "       1361.4534891 , 1364.76999564, 1351.14936715, 1356.7131153 ,\n",
       "       1352.7996967 , 1354.80507126, 1354.45357511, 1368.4848149 ,\n",
       "       1360.49803511, 1356.27645033, 1377.48389225, 1356.38406232,\n",
       "       1357.2121208 , 1412.08588876, 1356.66721779, 1354.06452467,\n",
       "       1351.74212317, 1355.2306858 , 1359.32577283, 1355.08905039,\n",
       "       1388.73595238, 1354.10443738, 1354.57449308, 1354.92079991,\n",
       "       1358.31851499, 1356.94857119, 1354.88793591, 1359.60639978,\n",
       "       1352.63280792, 1371.24052094, 1356.19838363, 1363.18672393,\n",
       "       1354.77970571, 1356.29744748, 1354.94486816, 1354.76195421,\n",
       "       1366.2859304 , 1371.97835869, 1360.58466779, 1354.15404445,\n",
       "       1352.88239834, 1358.52113856, 1384.58347682, 1407.18286413,\n",
       "       1352.87700096, 1352.83526921, 1355.56858371, 1352.31176344,\n",
       "       1387.97217945, 1353.47358455, 1353.00757471, 1357.37144226,\n",
       "       1362.85208669, 1353.20158236, 1360.96067727, 1353.63697785,\n",
       "       1361.05022581, 1354.48693938, 1360.04626248, 1354.68922361,\n",
       "       1360.2550978 , 1356.23103419, 1357.51646213, 1354.10532246,\n",
       "       1358.15199593, 1352.23238404, 1360.99326493, 1370.46256386,\n",
       "       1370.44582795, 1357.09112415, 1360.09415895, 1358.66108444,\n",
       "       1361.5965757 , 1435.58708646, 1352.83231114, 1360.73617994,\n",
       "       1362.0271471 , 1353.78855636, 1372.51110477, 1383.03116549,\n",
       "       1355.53909598, 1434.41913955, 1352.52469753, 1366.59165875,\n",
       "       1355.67798836, 1357.62280522, 1358.20489476, 1358.17202063,\n",
       "       1372.64210354, 1354.71600594, 1363.23310769, 1377.9166283 ,\n",
       "       1359.03044955, 1355.03994216, 1367.15858636, 1364.00421476,\n",
       "       1412.18704411, 1372.38315655, 1352.04090019, 1353.70646645,\n",
       "       1363.5568319 , 1358.02907044, 1397.98253019, 1366.76023795,\n",
       "       1354.41915829, 1353.88039405, 1355.5914804 , 1354.18600327,\n",
       "       1351.17864923, 1355.80594772, 1353.3764645 , 1352.19690513,\n",
       "       1355.52714792, 1352.74100515, 1416.34312776, 1354.49564525,\n",
       "       1353.54206522, 1354.5358861 , 1354.15661333, 1359.03329904,\n",
       "       1353.95270163, 1353.88622322, 1372.85539371, 1375.69362728,\n",
       "       1355.51165359, 1356.05676787, 1354.34757505, 1356.70107868,\n",
       "       1355.82188281, 1353.6767757 , 1369.69299302, 1356.5738346 ,\n",
       "       1374.96263638, 1357.09281064, 1353.50945316, 1356.58215893,\n",
       "       1369.54321439, 1373.37112138, 1356.436736  , 1355.78189448,\n",
       "       1355.99100257, 1366.52023181, 1361.22873123, 1358.54922788,\n",
       "       1381.67221644, 1356.93591371, 1356.25304669, 1357.23694092,\n",
       "       1357.14938573, 1363.26248169, 1402.58589966, 1360.66406951,\n",
       "       1365.40850294, 1360.70058494, 1364.01530539, 1355.60983   ,\n",
       "       1376.59693473, 1364.07341315, 1356.18964315, 1357.37779796,\n",
       "       1361.83527062, 1360.52612926, 1358.33071603, 1354.65627773,\n",
       "       1358.28418751, 1354.1666454 , 1384.26022979, 1356.42489099,\n",
       "       1352.51594715, 1354.59058953, 1353.35899564, 1385.60796173,\n",
       "       1366.73664972, 1371.48314735, 1422.26887318, 1358.52199024,\n",
       "       1360.40751939, 1371.98772901, 1366.7903981 , 1353.0684284 ,\n",
       "       1357.27566599, 1359.99092495, 1358.34223985, 1354.68036035,\n",
       "       1357.47704597, 1359.60505427, 1364.48618772, 1369.04903365,\n",
       "       1354.04985482, 1351.32023546, 1353.86354711, 1355.16578279,\n",
       "       1359.37889831, 1356.30237182, 1357.93652032, 1361.05722504,\n",
       "       1358.15834779, 1362.28577207, 1358.92914914, 1355.5951683 ,\n",
       "       1355.14511802, 1358.11284618, 1372.35294617, 1356.20388326,\n",
       "       1360.38610143, 1357.21104937, 1373.46486171, 1370.14996763,\n",
       "       1357.10548177, 1359.76078448, 1356.77720773, 1353.95295005,\n",
       "       1357.02091403, 1354.96559707, 1374.62210976, 1357.31524653,\n",
       "       1354.09225806, 1356.30535104, 1353.62943998, 1353.7536397 ,\n",
       "       1359.54640772, 1352.95912773, 1363.09141651, 1361.6909674 ,\n",
       "       1357.86287857, 1356.24272295, 1354.77772379, 1355.01425984,\n",
       "       1353.55641081, 1405.54524231, 1357.55349813, 1353.5479829 ,\n",
       "       1357.09650588, 1353.7359135 , 1354.07288802, 1376.55730313,\n",
       "       1355.68436732, 1363.41310484, 1373.01920056, 1372.33512252,\n",
       "       1354.85618752, 1358.69968558, 1384.31578025, 1361.96304049,\n",
       "       1366.7530534 , 1355.10347666, 1364.1034364 , 1353.62623097,\n",
       "       1357.64402446, 1378.63481187, 1371.48280293, 1367.70700446,\n",
       "       1383.3004783 , 1355.75236868, 1363.61848805, 1353.774451  ,\n",
       "       1359.44179755, 1354.86450601, 1391.10389187, 1353.47831084,\n",
       "       1357.50495034, 1355.77254932, 1363.27733654, 1356.87418845,\n",
       "       1364.08009588, 1359.58647695, 1354.03049154, 1354.67993918,\n",
       "       1357.49694656, 1357.90252532, 1352.55338528, 1357.77427782,\n",
       "       1354.64099907, 1362.30707624, 1381.76846398, 1359.20498579,\n",
       "       1359.34798012, 1355.51755243, 1432.53753261, 1354.77276307,\n",
       "       1362.96799893, 1360.22845926, 1375.71376234, 1353.97222674,\n",
       "       1366.36951351, 1357.23968246, 1374.91632616, 1355.07146973,\n",
       "       1358.72176454, 1354.76006474, 1354.07975059, 1430.7415065 ,\n",
       "       1401.51163758, 1352.61964669, 1351.84092463, 1353.93724964,\n",
       "       1353.55081905, 1356.61221704, 1356.47044039, 1374.8162382 ,\n",
       "       1355.43127983, 1357.87248913, 1357.84010613, 1355.88247075,\n",
       "       1414.21931853, 1358.52565427, 1352.60874044, 1358.21797908,\n",
       "       1356.28226194, 1357.4740757 , 1374.53136875, 1371.36058704,\n",
       "       1381.64023224, 1354.26080613, 1360.93246303, 1360.4971831 ,\n",
       "       1356.72833087, 1354.66445998, 1375.42307082, 1365.69184017,\n",
       "       1400.53714751, 1364.4964973 , 1429.95205032, 1370.97580895,\n",
       "       1354.18490099, 1373.12074032, 1354.55391788, 1360.56241627,\n",
       "       1354.19336494, 1369.84719191, 1354.50258812, 1423.88520756,\n",
       "       1357.51784822, 1362.64562669, 1356.9746307 , 1357.38532532,\n",
       "       1358.01912277, 1389.07401939, 1353.66674493, 1357.44429483,\n",
       "       1355.79485843, 1358.34848563, 1355.82487188, 1360.59229462,\n",
       "       1355.33061954, 1358.08266714, 1367.32625318, 1360.33974495,\n",
       "       1365.0132863 , 1356.21843528, 1415.46238011, 1362.35700288,\n",
       "       1353.01993127, 1376.41706261, 1359.10637116, 1359.27732669,\n",
       "       1360.07351389, 1355.91491582, 1363.89592685, 1355.70360895,\n",
       "       1357.13413471, 1362.78030612, 1403.17812769, 1353.67512403,\n",
       "       1358.72972624, 1355.40604451, 1360.64657296, 1355.59798585,\n",
       "       1354.58476219, 1359.31466533, 1357.46120984, 1356.95873986,\n",
       "       1353.7044886 , 1357.46335103, 1358.27570796, 1358.67220259,\n",
       "       1368.64405911, 1353.77927618, 1380.79587094, 1352.11875386,\n",
       "       1367.43021888, 1352.12047253, 1355.15175277, 1352.34027186,\n",
       "       1373.16745562, 1364.44305002, 1353.05727946, 1355.88574844,\n",
       "       1353.12520684, 1359.1403914 , 1356.97797885, 1365.2066955 ,\n",
       "       1364.36631353, 1352.0692872 , 1355.36785236, 1353.82778219,\n",
       "       1356.56223547, 1355.42358499, 1354.04185393, 1357.77729572,\n",
       "       1355.42698884, 1367.58575968, 1359.37507447, 1426.04086859,\n",
       "       1355.61209821, 1402.38055871, 1438.28902965, 1380.70639033,\n",
       "       1357.42315646, 1353.9037546 , 1355.02853218, 1369.76891741,\n",
       "       1389.75515501, 1354.84982509, 1353.27864512, 1358.20260377,\n",
       "       1354.23531023, 1365.68170594, 1357.82205009, 1353.0424804 ,\n",
       "       1356.14092862, 1356.88359596, 1353.86594188, 1385.05656133,\n",
       "       1357.67049323, 1352.88605233, 1354.36622685, 1351.01285017,\n",
       "       1357.1405229 , 1356.48338094, 1388.19881091, 1364.19056213,\n",
       "       1357.26373822, 1356.8787007 , 1362.763419  , 1355.38566715,\n",
       "       1373.67752007, 1356.30088267, 1376.2212633 , 1362.65641663,\n",
       "       1357.1685895 , 1363.75884287, 1353.05542536, 1417.35564343,\n",
       "       1354.21883691, 1356.6445053 , 1371.85940405, 1356.35133408,\n",
       "       1353.86150506, 1357.66649419, 1356.07800146, 1356.0550518 ,\n",
       "       1354.31731412, 1359.02552627, 1361.40565481, 1359.14095658,\n",
       "       1355.19473279, 1355.99629487, 1373.29586487, 1352.71549321,\n",
       "       1354.12867889, 1354.64877699, 1361.9118331 , 1397.20586626,\n",
       "       1354.61766696, 1352.96621381, 1362.6342124 , 1357.88273859,\n",
       "       1364.86318156, 1359.00533741, 1356.80263675, 1363.50801033,\n",
       "       1381.51893599, 1354.76538763, 1357.21647395, 1356.86727563,\n",
       "       1371.79298744, 1356.50877083, 1356.07010788, 1369.82244059,\n",
       "       1355.45319662, 1419.41689167, 1354.356772  , 1357.10703734,\n",
       "       1357.0671012 , 1354.04432833, 1355.12763307, 1352.50902422,\n",
       "       1352.56031809, 1352.17432241, 1355.82352809, 1359.68793255,\n",
       "       1354.61058747, 1354.2173718 , 1355.49755551, 1416.91525625,\n",
       "       1354.53839241, 1352.04432505, 1355.16059602, 1356.07626815,\n",
       "       1350.83895069, 1358.36186076, 1352.50487276, 1351.93412384,\n",
       "       1353.90371852, 1357.52653942, 1355.21801654, 1350.26018391,\n",
       "       1355.90170361, 1356.94211116, 1355.70470455, 1357.28786445,\n",
       "       1362.42083055, 1367.11960008, 1354.10632351, 1358.68680063,\n",
       "       1380.65430094, 1387.24063913, 1353.21509946, 1364.25115779,\n",
       "       1357.10109042, 1378.56611123, 1382.97252554, 1353.38951103,\n",
       "       1366.06741689, 1372.96860372, 1385.58460267, 1358.35162685,\n",
       "       1376.37584998, 1374.49153988, 1360.71422215, 1352.78499395,\n",
       "       1358.0792816 , 1411.85187346, 1361.89778797, 1355.31338579,\n",
       "       1357.46432338, 1356.80267467, 1373.85611765, 1367.14736144,\n",
       "       1356.59402354, 1364.45295927, 1386.97484179, 1354.16619788,\n",
       "       1355.82859322, 1363.09392554, 1356.00350336, 1353.34623814,\n",
       "       1366.10728682, 1352.38702265, 1357.58165608, 1356.58966066,\n",
       "       1354.19462152, 1360.62782608, 1356.35624017, 1392.92305623,\n",
       "       1353.43141765, 1369.68836003, 1354.13238069, 1356.4035737 ,\n",
       "       1363.16438844, 1356.96900373, 1359.71524455, 1373.90009946,\n",
       "       1361.70135907, 1402.89322256, 1372.71879999, 1409.07581316,\n",
       "       1384.24195509, 1354.9226591 , 1358.50640474, 1399.34635522,\n",
       "       1359.26193765, 1355.31925739, 1357.61374186, 1358.7364917 ,\n",
       "       1353.75351415, 1357.10314823, 1355.55360177, 1361.54570375,\n",
       "       1358.90795357, 1376.51719881, 1381.10741124, 1357.72114626,\n",
       "       1380.24235149, 1355.04651907, 1372.72504015, 1391.9635042 ,\n",
       "       1356.04722313, 1430.81101211, 1404.67443706, 1362.9485263 ,\n",
       "       1354.47681307, 1358.36238105, 1357.80923913, 1369.67930415])"
      ]
     },
     "execution_count": 53,
     "metadata": {},
     "output_type": "execute_result"
    }
   ],
   "source": [
    "rate.sum(1)"
   ]
  },
  {
   "cell_type": "code",
   "execution_count": 38,
   "metadata": {},
   "outputs": [
    {
     "name": "stderr",
     "output_type": "stream",
     "text": [
      "/home/liutianc/miniconda3/lib/python3.7/site-packages/theano/scan_module/scan_perform_ext.py:76: UserWarning: The file scan_perform.c is not available. This donot happen normally. You are probably in a strangesetup. This mean Theano can not use the cython code for scan. If youwant to remove this warning, use the Theano flag'cxx=' (set to an empty string) to disable all ccode generation.\n",
      "  \"The file scan_perform.c is not available. This do\"\n"
     ]
    },
    {
     "data": {
      "text/plain": [
       "(1000, 1000, 20)"
      ]
     },
     "execution_count": 38,
     "metadata": {},
     "output_type": "execute_result"
    }
   ],
   "source": [
    "sample_vi_theta = theano.function(\n",
    "    [inp], approx.sample_node(approx.model.theta, 1000, more_replacements={doc_t: inp})\n",
    ")\n"
   ]
  },
  {
   "cell_type": "code",
   "execution_count": null,
   "metadata": {},
   "outputs": [],
   "source": [
    "sample_vi_theta(test).shape"
   ]
  }
 ],
 "metadata": {
  "kernelspec": {
   "display_name": "Python 3",
   "language": "python",
   "name": "python3"
  },
  "language_info": {
   "codemirror_mode": {
    "name": "ipython",
    "version": 3
   },
   "file_extension": ".py",
   "mimetype": "text/x-python",
   "name": "python",
   "nbconvert_exporter": "python",
   "pygments_lexer": "ipython3",
   "version": "3.7.7"
  }
 },
 "nbformat": 4,
 "nbformat_minor": 4
}
