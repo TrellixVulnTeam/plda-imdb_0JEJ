{
 "cells": [
  {
   "cell_type": "code",
   "execution_count": 1,
   "metadata": {},
   "outputs": [],
   "source": [
    "from src.models.pfa import PFAHMCSampler\n",
    "from src.data import generate_data\n",
    "\n",
    "import numpy as np"
   ]
  },
  {
   "cell_type": "code",
   "execution_count": 3,
   "metadata": {},
   "outputs": [],
   "source": [
    "num_topic = 5\n",
    "vocab_size = 100\n",
    "n = 50\n",
    "depend_prob = 1.\n",
    "document = generate_data(num_topic, vocab_size, n, partial_depend=True)"
   ]
  },
  {
   "cell_type": "code",
   "execution_count": 5,
   "metadata": {},
   "outputs": [
    {
     "name": "stdout",
     "output_type": "stream",
     "text": [
      "gamma0: batch: () | event: ()\n",
      "---()\n",
      "\n",
      "gamma: batch: () | event: (5,)\n",
      "---(5,)\n",
      "\n",
      "theta: batch: (50,) | event: (5,)\n",
      "---(50, 5)\n",
      "\n",
      "phi: batch: () | event: (5, 100)\n",
      "---(5, 100)\n",
      "\n",
      "document: batch: (50,) | event: (100,)\n",
      "---(50, 100)\n",
      "\n"
     ]
    }
   ],
   "source": [
    "hparams = { \n",
    "    'e0': 1.,\n",
    "    'f0': 0.001,\n",
    "    'c0': np.full((num_topic,), 0.5),\n",
    "    'pn': np.full((n, 1), 0.5),\n",
    "    'word_dist': np.full((num_topic, vocab_size), 10.),\n",
    "    }\n",
    "\n",
    "model = PFAHMCSampler(vocab_size, num_topic, hparams)\n",
    "model.set_data(document)\n",
    "model.set_model(n)\n",
    "\n",
    "event = model.model.event_shape\n",
    "sample = model.model.sample()\n",
    "\n",
    "for k, v in model.model.batch_shape.items():\n",
    "    print(f'{k}: batch: {v} | event: {event[k]}')\n",
    "    print(f'---{sample[k].shape}\\n')"
   ]
  },
  {
   "cell_type": "code",
   "execution_count": 6,
   "metadata": {},
   "outputs": [
    {
     "name": "stdout",
     "output_type": "stream",
     "text": [
      "Finish sampling...\n"
     ]
    }
   ],
   "source": [
    "n_states = 100\n",
    "n_burnin = 3000\n",
    "model.sample_states(document,\n",
    "                  n_states=n_states,\n",
    "                  n_burnin=n_burnin,\n",
    "                  step_size=0.05)"
   ]
  },
  {
   "cell_type": "code",
   "execution_count": 7,
   "metadata": {},
   "outputs": [],
   "source": [
    "draw_samples = model.predict()\n",
    "pred_low, pred_high = np.quantile(draw_samples, [0.025, 0.975], axis=0)\n",
    "is_cover = np.all((pred_low < document, pred_high > document), axis=0)"
   ]
  },
  {
   "cell_type": "code",
   "execution_count": 8,
   "metadata": {},
   "outputs": [
    {
     "data": {
      "text/plain": [
       "array([[  6.   ,   3.   ,   7.   , ..., 476.425, 947.325, 169.   ],\n",
       "       [  6.475,   3.475,   7.   , ..., 465.   , 963.475, 169.425],\n",
       "       [  6.475,   2.   ,   6.475, ..., 474.95 , 964.95 , 162.95 ],\n",
       "       ...,\n",
       "       [  6.   ,   4.   ,   8.   , ..., 469.475, 952.9  , 165.9  ],\n",
       "       [  7.   ,   3.475,   7.475, ..., 477.   , 965.   , 174.475],\n",
       "       [  4.95 ,   4.   ,   7.   , ..., 471.9  , 972.95 , 172.425]])"
      ]
     },
     "execution_count": 8,
     "metadata": {},
     "output_type": "execute_result"
    }
   ],
   "source": [
    "pred_low"
   ]
  },
  {
   "cell_type": "code",
   "execution_count": 9,
   "metadata": {},
   "outputs": [
    {
     "data": {
      "text/plain": [
       "array([[  19.   ,   14.   ,   19.   , ...,  561.575, 1070.525,  229.1  ],\n",
       "       [  19.525,   13.   ,   21.05 , ...,  566.2  , 1063.575,  217.525],\n",
       "       [  18.525,   14.   ,   21.   , ...,  546.   , 1079.525,  220.   ],\n",
       "       ...,\n",
       "       [  18.525,   15.   ,   20.   , ...,  553.725, 1083.575,  216.05 ],\n",
       "       [  17.525,   15.   ,   19.   , ...,  560.575, 1078.05 ,  224.   ],\n",
       "       [  18.525,   15.   ,   20.   , ...,  558.   , 1086.575,  229.   ]])"
      ]
     },
     "execution_count": 9,
     "metadata": {},
     "output_type": "execute_result"
    }
   ],
   "source": [
    "pred_high"
   ]
  },
  {
   "cell_type": "code",
   "execution_count": 11,
   "metadata": {},
   "outputs": [
    {
     "data": {
      "text/plain": [
       "<tf.Tensor: shape=(50, 100), dtype=float32, numpy=\n",
       "array([[  0.,  11.,  26., ..., 532., 446., 458.],\n",
       "       [ 20.,  10.,   1., ..., 609., 646., 685.],\n",
       "       [  6.,  10.,   2., ..., 473., 397., 488.],\n",
       "       ...,\n",
       "       [ 25.,  21.,  23., ..., 799., 742., 773.],\n",
       "       [  1.,  13.,  28., ..., 321., 300., 330.],\n",
       "       [  6.,   7.,  18., ..., 288., 289., 312.]], dtype=float32)>"
      ]
     },
     "execution_count": 11,
     "metadata": {},
     "output_type": "execute_result"
    }
   ],
   "source": [
    "document"
   ]
  },
  {
   "cell_type": "code",
   "execution_count": 13,
   "metadata": {},
   "outputs": [
    {
     "data": {
      "text/plain": [
       "0.193"
      ]
     },
     "execution_count": 13,
     "metadata": {},
     "output_type": "execute_result"
    }
   ],
   "source": [
    "is_cover.mean()"
   ]
  },
  {
   "cell_type": "code",
   "execution_count": null,
   "metadata": {},
   "outputs": [],
   "source": []
  }
 ],
 "metadata": {
  "kernelspec": {
   "display_name": "Python 3",
   "language": "python",
   "name": "python3"
  },
  "language_info": {
   "codemirror_mode": {
    "name": "ipython",
    "version": 3
   },
   "file_extension": ".py",
   "mimetype": "text/x-python",
   "name": "python",
   "nbconvert_exporter": "python",
   "pygments_lexer": "ipython3",
   "version": "3.8.5"
  }
 },
 "nbformat": 4,
 "nbformat_minor": 4
}
