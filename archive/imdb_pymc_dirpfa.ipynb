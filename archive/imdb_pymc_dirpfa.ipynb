{
 "cells": [
  {
   "cell_type": "code",
   "execution_count": 2,
   "metadata": {},
   "outputs": [
    {
     "name": "stderr",
     "output_type": "stream",
     "text": [
      "WARNING (theano.tensor.blas): Using NumPy C-API based implementation for BLAS functions.\n"
     ]
    },
    {
     "name": "stdout",
     "output_type": "stream",
     "text": [
      "env: THEANO_FLAGS=device=gpu,floatX=float64\n"
     ]
    },
    {
     "name": "stderr",
     "output_type": "stream",
     "text": [
      "[nltk_data] Downloading package punkt to /home/liutianc/nltk_data...\n",
      "[nltk_data]   Package punkt is already up-to-date!\n",
      "[nltk_data] Downloading package stopwords to\n",
      "[nltk_data]     /home/liutianc/nltk_data...\n",
      "[nltk_data]   Package stopwords is already up-to-date!\n"
     ]
    }
   ],
   "source": [
    "%matplotlib inline\n",
    "import os\n",
    "import sys\n",
    "\n",
    "from collections import OrderedDict\n",
    "from copy import deepcopy\n",
    "from time import time\n",
    "\n",
    "import matplotlib.pyplot as plt\n",
    "import numpy as np\n",
    "import scipy.special as sc\n",
    "\n",
    "import pymc3 as pm\n",
    "import seaborn as sns\n",
    "import theano\n",
    "import theano.tensor as tt\n",
    "\n",
    "from pymc3 import Dirichlet, Poisson, Gamma\n",
    "from pymc3 import math as pmmath\n",
    "# from sklearn.datasets import fetch_20newsgroups\n",
    "from sklearn.feature_extraction.text import CountVectorizer, TfidfVectorizer\n",
    "from theano import shared\n",
    "from theano.sandbox.rng_mrg import MRG_RandomStreams\n",
    "\n",
    "%env THEANO_FLAGS=device=gpu,floatX=float64\n",
    "\n",
    "\n",
    "from data_prep import prepare_sparse_matrix"
   ]
  },
  {
   "cell_type": "code",
   "execution_count": 3,
   "metadata": {},
   "outputs": [],
   "source": [
    "n_words = 3000\n",
    "n_samples = 10000\n",
    "\n",
    "tf_vectorizer, docs_tr, docs_te = prepare_sparse_matrix(n_samples, n_samples // 10, n_words)"
   ]
  },
  {
   "cell_type": "code",
   "execution_count": 4,
   "metadata": {},
   "outputs": [],
   "source": [
    "feature_names = tf_vectorizer.get_feature_names()"
   ]
  },
  {
   "cell_type": "code",
   "execution_count": 5,
   "metadata": {},
   "outputs": [
    {
     "data": {
      "text/plain": [
       "808287"
      ]
     },
     "execution_count": 5,
     "metadata": {},
     "output_type": "execute_result"
    }
   ],
   "source": [
    "n_tokens = np.sum(docs_tr[docs_tr.nonzero()])\n",
    "n_tokens"
   ]
  },
  {
   "cell_type": "code",
   "execution_count": 6,
   "metadata": {},
   "outputs": [],
   "source": [
    "def log_prob(beta, theta, n):\n",
    "    \"\"\"Returns the log-likelihood function for given documents.\n",
    "\n",
    "    K : number of topics in the model\n",
    "    V : number of words (size of vocabulary)\n",
    "    D : number of documents (in a mini-batch)\n",
    "\n",
    "    Parameters\n",
    "    ----------\n",
    "    beta : tensor (K x V)\n",
    "        Word distributions.\n",
    "    theta : tensor (D x K)\n",
    "        Topic distributions for documents.\n",
    "    n: tensor (D x 1)\n",
    "        Expected lengths of each documents\n",
    "    \"\"\"\n",
    "\n",
    "    def ll_docs_f(docs):\n",
    "        \n",
    "        \"\"\"\n",
    "        \\log p(d | theta, beta, n) = \\sum_w \\log p(w | theta, beta， n)\n",
    "                                   = \\sum_w \\log Poisson(w | theta @ beta * n) \n",
    "                                   = \\sum_w \\log Poisson(w | n * \\sum_k theta_k * beta_k)\n",
    "                                   = \\sum_w \\log Poisson(w | n * \\sum_k \\exp( \\log theta_k + \\log beta_k ))\n",
    "                                   = \\sum_w - n * \\sum_k \\exp( \\log theta_k + \\log beta_k ) + w * \\log n * \\sum_k \\exp( \\log theta_k + \\log beta_k ) + const\n",
    "        \"\"\"\n",
    "        dixs, vixs = docs.nonzero()\n",
    "        vfreqs = docs[dixs, vixs]\n",
    "        ll_docs = (\n",
    "            vfreqs * (pmmath.logsumexp(tt.log(theta[dixs]) + tt.log(beta.T[vixs]), axis=1).ravel() + tt.log(n[dixs]).ravel()) \\\n",
    "             - tt.exp(pmmath.logsumexp(tt.log(theta[dixs]) + tt.log(beta.T[vixs],), axis=1)).ravel() * n[dixs].ravel()\n",
    "        )\n",
    "        \n",
    "        # Per-word log-likelihood times num of tokens in the whole dataset\n",
    "        return tt.sum(ll_docs) / (tt.sum(vfreqs) + 1e-9) * n_tokens\n",
    "\n",
    "    return ll_docs_f"
   ]
  },
  {
   "cell_type": "code",
   "execution_count": 7,
   "metadata": {},
   "outputs": [
    {
     "name": "stderr",
     "output_type": "stream",
     "text": [
      "/home/liutianc/miniconda3/lib/python3.7/site-packages/pymc3/data.py:246: FutureWarning: Using a non-tuple sequence for multidimensional indexing is deprecated; use `arr[tuple(seq)]` instead of `arr[seq]`. In the future this will be interpreted as an array index, `arr[np.array(seq)]`, which will result either in an error or a different result.\n",
      "  self.shared = theano.shared(data[in_memory_slc])\n",
      "/home/liutianc/miniconda3/lib/python3.7/site-packages/theano/tensor/subtensor.py:2197: FutureWarning: Using a non-tuple sequence for multidimensional indexing is deprecated; use `arr[tuple(seq)]` instead of `arr[seq]`. In the future this will be interpreted as an array index, `arr[np.array(seq)]`, which will result either in an error or a different result.\n",
      "  rval = inputs[0].__getitem__(inputs[1:])\n",
      "/home/liutianc/miniconda3/lib/python3.7/site-packages/theano/tensor/subtensor.py:2197: FutureWarning: Using a non-tuple sequence for multidimensional indexing is deprecated; use `arr[tuple(seq)]` instead of `arr[seq]`. In the future this will be interpreted as an array index, `arr[np.array(seq)]`, which will result either in an error or a different result.\n",
      "  rval = inputs[0].__getitem__(inputs[1:])\n",
      "/home/liutianc/miniconda3/lib/python3.7/site-packages/theano/tensor/subtensor.py:2197: FutureWarning: Using a non-tuple sequence for multidimensional indexing is deprecated; use `arr[tuple(seq)]` instead of `arr[seq]`. In the future this will be interpreted as an array index, `arr[np.array(seq)]`, which will result either in an error or a different result.\n",
      "  rval = inputs[0].__getitem__(inputs[1:])\n"
     ]
    },
    {
     "name": "stdout",
     "output_type": "stream",
     "text": [
      "Done\n"
     ]
    }
   ],
   "source": [
    "n_topics = 20\n",
    "minibatch_size = 128\n",
    "\n",
    "avg_len = docs_tr.sum(1).mean()\n",
    "\n",
    "doc_t_minibatch = pm.Minibatch(docs_tr.toarray(), minibatch_size)\n",
    "doc_t = shared(docs_tr.toarray()[:minibatch_size])\n",
    "\n",
    "with pm.Model() as model:\n",
    "    n = Gamma(\n",
    "        \"n\", \n",
    "        alpha=pm.floatX(10. * np.ones((minibatch_size, 1))),\n",
    "        beta=pm.floatX(0.1 * np.ones((minibatch_size, 1))),\n",
    "        shape=(minibatch_size, 1),\n",
    "        total_size=n_samples\n",
    "    )\n",
    "    \n",
    "    beta = Dirichlet(\n",
    "        \"beta\",\n",
    "        a=pm.floatX((1.0 / n_topics) * np.ones((n_topics, n_words))),\n",
    "        shape=(n_topics, n_words),\n",
    "    )\n",
    "\n",
    "    theta = Dirichlet(\n",
    "        \"theta\",\n",
    "        a=pm.floatX((1.0 / n_topics) * np.ones((minibatch_size, n_topics))),\n",
    "        shape=(minibatch_size, n_topics),\n",
    "        total_size=n_samples,\n",
    "    )\n",
    "    \n",
    "    doc = pm.DensityDist(\"doc\", log_prob(beta, theta, n), observed=doc_t)\n",
    "\n",
    "#     step = pm.Metropolis()\n",
    "#     trace = pm.sample(1000, step)\n",
    "    \n",
    "print('Done')"
   ]
  },
  {
   "cell_type": "markdown",
   "metadata": {},
   "source": [
    "# VAE for n and \\theta variables"
   ]
  },
  {
   "cell_type": "code",
   "execution_count": 41,
   "metadata": {},
   "outputs": [],
   "source": [
    "class LDAEncoder:\n",
    "    \"\"\"Encode (term-frequency) document vectors to variational means and (log-transformed) stds.\"\"\"\n",
    "\n",
    "    def __init__(self, n_words, n_hidden, n_topics, p_corruption=0, random_seed=1):\n",
    "        rng = np.random.RandomState(random_seed)\n",
    "        self.n_words = n_words\n",
    "        self.n_hidden = n_hidden\n",
    "        self.n_topics = n_topics\n",
    "        self.w0 = shared(0.01 * rng.randn(n_words, n_hidden).ravel(), name=\"w0\")\n",
    "        self.b0 = shared(0.01 * rng.randn(n_hidden), name=\"b0\")\n",
    "        \n",
    "        self.w1 = shared(0.01 * rng.randn(n_hidden, n_hidden).ravel(), name=\"w1\")\n",
    "        self.b1 = shared(0.01 * rng.randn(n_hidden), name=\"b1\")\n",
    "        \n",
    "        self.w2 = shared(0.01 * rng.randn(n_hidden, 2 * (n_topics - 1)).ravel(), name=\"w2\")\n",
    "        self.b2 = shared(0.01 * rng.randn(2 * (n_topics - 1)), name=\"b2\")\n",
    "        \n",
    "        self.w3 = shared(0.01 * rng.randn(n_hidden, 2).ravel(), name=\"w3\")\n",
    "        self.b3 = shared(0.01 * rng.randn(2), name=\"b3\")\n",
    "        \n",
    "        self.rng = MRG_RandomStreams(seed=random_seed)\n",
    "\n",
    "    def encode(self, xs):\n",
    "\n",
    "        w0 = self.w0.reshape((self.n_words, self.n_hidden))\n",
    "        w1 = self.w1.reshape((self.n_hidden, self.n_hidden))\n",
    "        w2 = self.w2.reshape((self.n_hidden, 2 * (self.n_topics - 1)))\n",
    "        w3 = self.w3.reshape((self.n_hidden, 2))\n",
    "\n",
    "\n",
    "        hs = tt.tanh(xs.dot(w0) + self.b0)\n",
    "        hs = tt.tanh(hs.dot(w1) + self.b1)\n",
    "        thetas = hs.dot(w2) + self.b2\n",
    "        rates = hs.dot(w3) + self.b3\n",
    "        \n",
    "        thetas_mean = thetas[:, :(self.n_topics - 1)]\n",
    "        thetas_rho = thetas[:, (self.n_topics - 1):]\n",
    "        \n",
    "        rates_mean = rates[:, :1]\n",
    "        rates_rho  = rates[:, 1:]\n",
    "        return {\"mu\": thetas_mean, \"rho\": thetas_rho}, {\"mu\": rates_mean, \"rho\": rates_rho}\n",
    "\n",
    "    def get_params(self):\n",
    "        return [self.w0, self.b0, self.w1, self.b1, self.w2, self.b2, self.w3, self.b3]"
   ]
  },
  {
   "cell_type": "code",
   "execution_count": 42,
   "metadata": {},
   "outputs": [
    {
     "data": {
      "text/plain": [
       "[w0, b0, w1, b1, w2, b2, w3, b3]"
      ]
     },
     "execution_count": 42,
     "metadata": {},
     "output_type": "execute_result"
    }
   ],
   "source": [
    "encoder = LDAEncoder(n_words=n_words, n_hidden=100, n_topics=n_topics, p_corruption=0.0)\n",
    "local_RVs = OrderedDict([(theta, encoder.encode(doc_t)[0]), (n, encoder.encode(doc_t)[1])])\n",
    "\n",
    "encoder_params = encoder.get_params()\n",
    "encoder_params"
   ]
  },
  {
   "cell_type": "code",
   "execution_count": 43,
   "metadata": {},
   "outputs": [
    {
     "data": {
      "text/plain": [
       "OrderedDict([(theta,\n",
       "              {'mu': Subtensor{::, :int64:}.0,\n",
       "               'rho': Subtensor{::, int64::}.0}),\n",
       "             (n,\n",
       "              {'mu': Subtensor{::, :int64:}.0,\n",
       "               'rho': Subtensor{::, int64::}.0})])"
      ]
     },
     "execution_count": 43,
     "metadata": {},
     "output_type": "execute_result"
    }
   ],
   "source": [
    "local_RVs"
   ]
  },
  {
   "cell_type": "code",
   "execution_count": null,
   "metadata": {},
   "outputs": [
    {
     "name": "stderr",
     "output_type": "stream",
     "text": [
      "Average Loss = 6.9252e+06:  94%|█████████▍| 9412/10000 [34:50<03:10,  3.09it/s]"
     ]
    }
   ],
   "source": [
    "lr = .1\n",
    "s = shared(lr)\n",
    "\n",
    "def reduce_rate(a, h, i):\n",
    "    s.set_value(lr / ((i / minibatch_size) + 1) ** 0.7)\n",
    "\n",
    "with model:\n",
    "    approx = pm.MeanField(local_rv=local_RVs)\n",
    "    approx.scale_cost_to_minibatch = False\n",
    "    inference = pm.KLqp(approx)\n",
    "    \n",
    "inference.fit(\n",
    "    10000,\n",
    "    callbacks=[reduce_rate, pm.callbacks.CheckParametersConvergence(diff=\"absolute\")],\n",
    "    obj_optimizer=pm.adam(learning_rate=s),\n",
    "    more_obj_params=encoder_params,\n",
    "    total_grad_norm_constraint=200,\n",
    "    more_replacements={doc_t: doc_t_minibatch},\n",
    ")"
   ]
  },
  {
   "cell_type": "code",
   "execution_count": null,
   "metadata": {},
   "outputs": [],
   "source": [
    "plt.plot(approx.hist[10:])"
   ]
  },
  {
   "cell_type": "code",
   "execution_count": 1,
   "metadata": {},
   "outputs": [
    {
     "ename": "NameError",
     "evalue": "name 'doc_t' is not defined",
     "output_type": "error",
     "traceback": [
      "\u001b[0;31m---------------------------------------------------------------------------\u001b[0m",
      "\u001b[0;31mNameError\u001b[0m                                 Traceback (most recent call last)",
      "\u001b[0;32m<ipython-input-1-a215194449b2>\u001b[0m in \u001b[0;36m<module>\u001b[0;34m\u001b[0m\n\u001b[1;32m      6\u001b[0m         )\n\u001b[1;32m      7\u001b[0m \u001b[0;34m\u001b[0m\u001b[0m\n\u001b[0;32m----> 8\u001b[0;31m \u001b[0mdoc_t\u001b[0m\u001b[0;34m.\u001b[0m\u001b[0mset_value\u001b[0m\u001b[0;34m(\u001b[0m\u001b[0mdocs_tr\u001b[0m\u001b[0;34m.\u001b[0m\u001b[0mtoarray\u001b[0m\u001b[0;34m(\u001b[0m\u001b[0;34m)\u001b[0m\u001b[0;34m)\u001b[0m\u001b[0;34m\u001b[0m\u001b[0;34m\u001b[0m\u001b[0m\n\u001b[0m\u001b[1;32m      9\u001b[0m \u001b[0msamples\u001b[0m \u001b[0;34m=\u001b[0m \u001b[0mpm\u001b[0m\u001b[0;34m.\u001b[0m\u001b[0msample_approx\u001b[0m\u001b[0;34m(\u001b[0m\u001b[0mapprox\u001b[0m\u001b[0;34m,\u001b[0m \u001b[0mdraws\u001b[0m\u001b[0;34m=\u001b[0m\u001b[0;36m100\u001b[0m\u001b[0;34m)\u001b[0m\u001b[0;34m\u001b[0m\u001b[0;34m\u001b[0m\u001b[0m\n\u001b[1;32m     10\u001b[0m \u001b[0mbeta_pymc3\u001b[0m \u001b[0;34m=\u001b[0m \u001b[0msamples\u001b[0m\u001b[0;34m[\u001b[0m\u001b[0;34m\"beta\"\u001b[0m\u001b[0;34m]\u001b[0m\u001b[0;34m.\u001b[0m\u001b[0mmean\u001b[0m\u001b[0;34m(\u001b[0m\u001b[0maxis\u001b[0m\u001b[0;34m=\u001b[0m\u001b[0;36m0\u001b[0m\u001b[0;34m)\u001b[0m\u001b[0;34m\u001b[0m\u001b[0;34m\u001b[0m\u001b[0m\n",
      "\u001b[0;31mNameError\u001b[0m: name 'doc_t' is not defined"
     ]
    }
   ],
   "source": [
    "def print_top_words(beta, feature_names, n_top_words=10):\n",
    "    for i in range(len(beta)):\n",
    "        print(\n",
    "            (\"Topic #%d: \" % i)\n",
    "            + \" ,\".join([feature_names[j] for j in beta[i].argsort()[: -n_top_words - 1 : -1]])\n",
    "        )\n",
    "\n",
    "doc_t.set_value(docs_tr.toarray())\n",
    "samples = pm.sample_approx(approx, draws=100)\n",
    "beta_pymc3 = samples[\"beta\"].mean(axis=0)\n",
    "\n",
    "print_top_words(beta_pymc3, feature_names)"
   ]
  },
  {
   "cell_type": "code",
   "execution_count": null,
   "metadata": {},
   "outputs": [],
   "source": []
  },
  {
   "cell_type": "code",
   "execution_count": null,
   "metadata": {},
   "outputs": [],
   "source": []
  },
  {
   "cell_type": "code",
   "execution_count": null,
   "metadata": {},
   "outputs": [],
   "source": []
  },
  {
   "cell_type": "code",
   "execution_count": null,
   "metadata": {},
   "outputs": [],
   "source": [
    "def calc_pp(ws, thetas, beta, n, wix):\n",
    "    \"\"\"\n",
    "    Parameters\n",
    "    ----------\n",
    "    ws: ndarray (N,)\n",
    "        Number of times the held-out word appeared in N documents.\n",
    "    thetas: ndarray, shape=(N, K)\n",
    "        Topic distributions for N documents.\n",
    "    beta: ndarray, shape=(K, V)\n",
    "        Word distributions for K topics.\n",
    "    wix: int\n",
    "        Index of the held-out word\n",
    "\n",
    "    Return\n",
    "    ------\n",
    "    Log probability of held-out words.\n",
    "    \"\"\"\n",
    "    rate = thetas.dot(beta[:, wix]) * n\n",
    "    return ws * np.log(rate) - rate - sc.gammaln(ws + 1)\n",
    "\n",
    "\n",
    "def eval_dirpfa(transform, beta, docs_te, wixs):\n",
    "    \"\"\"Evaluate LDA model by log predictive probability.\n",
    "\n",
    "    Parameters\n",
    "    ----------\n",
    "    transform: Python function\n",
    "        Transform document vectors to posterior mean of topic proportions.\n",
    "    wixs: iterable of int\n",
    "        Word indices to be held-out.\n",
    "    \"\"\"\n",
    "    lpss = []\n",
    "    docs_ = deepcopy(docs_te)\n",
    "    thetass = []\n",
    "    wss = []\n",
    "    total_words = 0\n",
    "    for wix in wixs:\n",
    "        ws = docs_te[:, wix].ravel()\n",
    "        if 0 < ws.sum():\n",
    "            # Hold-out\n",
    "            docs_[:, wix] = 0\n",
    "\n",
    "            # Topic distributions\n",
    "            thetas, ns = transform(docs_)\n",
    "\n",
    "            # Predictive log probability\n",
    "            lpss.append(calc_pp(ws, thetas, beta, ns, wix))\n",
    "\n",
    "            docs_[:, wix] = ws\n",
    "            thetass.append(thetas)\n",
    "            wss.append(ws)\n",
    "            total_words += ws.sum()\n",
    "        else:\n",
    "            thetass.append(None)\n",
    "            wss.append(None)\n",
    "\n",
    "    # Log-probability\n",
    "    lp = np.sum(np.hstack(lpss)) / total_words\n",
    "\n",
    "    return {\"lp\": lp, \"thetass\": thetass, \"beta\": beta, \"wss\": wss}"
   ]
  },
  {
   "cell_type": "code",
   "execution_count": null,
   "metadata": {},
   "outputs": [],
   "source": [
    "inp = tt.matrix(dtype=\"int64\")\n",
    "sample_vi_theta = theano.function(\n",
    "    [inp], approx.sample_node(approx.model.theta, 100, more_replacements={doc_t: inp}).mean(0)\n",
    ")\n",
    "\n",
    "sample_vi_n = theano.function(\n",
    "    [inp], approx.sample_node(approx.model.n, 100, more_replacements={doc_t: inp}).mean(0)\n",
    ")\n",
    "\n",
    "def transform_pymc3(docs):\n",
    "    return sample_vi_theta(docs), sample_vi_n(docs)"
   ]
  },
  {
   "cell_type": "code",
   "execution_count": null,
   "metadata": {},
   "outputs": [],
   "source": [
    "result_pymc3 = eval_dirpfa(\\\n",
    "      transform_pymc3, beta_pymc3, docs_te.toarray(), np.arange(100)\\\n",
    "  )\n",
    "\n",
    "print(\"Predictive log prob (pm3) = {}\".format(result_pymc3[\"lp\"]))"
   ]
  },
  {
   "cell_type": "code",
   "execution_count": null,
   "metadata": {},
   "outputs": [],
   "source": []
  },
  {
   "cell_type": "code",
   "execution_count": null,
   "metadata": {},
   "outputs": [],
   "source": []
  },
  {
   "cell_type": "code",
   "execution_count": null,
   "metadata": {},
   "outputs": [],
   "source": []
  },
  {
   "cell_type": "code",
   "execution_count": null,
   "metadata": {},
   "outputs": [],
   "source": []
  },
  {
   "cell_type": "code",
   "execution_count": 93,
   "metadata": {},
   "outputs": [
    {
     "name": "stderr",
     "output_type": "stream",
     "text": [
      "/home/liutianc/miniconda3/lib/python3.7/site-packages/theano/scan_module/scan_perform_ext.py:76: UserWarning: The file scan_perform.c is not available. This donot happen normally. You are probably in a strangesetup. This mean Theano can not use the cython code for scan. If youwant to remove this warning, use the Theano flag'cxx=' (set to an empty string) to disable all ccode generation.\n",
      "  \"The file scan_perform.c is not available. This do\"\n"
     ]
    }
   ],
   "source": [
    "inp = tt.matrix(dtype=\"int64\")\n",
    "sample_vi_theta = theano.function(\n",
    "    [inp], approx.sample_node(approx.model.theta, 100, more_replacements={doc_t: inp}).mean(0)\n",
    ")\n",
    "\n",
    "\n",
    "def transform_pymc3(docs):\n",
    "    return sample_vi_theta(docs)"
   ]
  },
  {
   "cell_type": "code",
   "execution_count": 81,
   "metadata": {},
   "outputs": [
    {
     "name": "stdout",
     "output_type": "stream",
     "text": [
      "Predictive log prob (pm3) = -7.14460699370768\n"
     ]
    }
   ],
   "source": [
    "result_pymc3 = eval_lda(\\\n",
    "      transform_pymc3, beta_pymc3, docs_tr.toarray(), np.arange(100)\\\n",
    "  )\n",
    "\n",
    "print(\"Predictive log prob (pm3) = {}\".format(result_pymc3[\"lp\"]))"
   ]
  },
  {
   "cell_type": "code",
   "execution_count": null,
   "metadata": {},
   "outputs": [],
   "source": []
  },
  {
   "cell_type": "code",
   "execution_count": null,
   "metadata": {},
   "outputs": [],
   "source": []
  },
  {
   "cell_type": "code",
   "execution_count": 8,
   "metadata": {},
   "outputs": [
    {
     "name": "stdout",
     "output_type": "stream",
     "text": [
      "Topic #0: films ,american ,hollywood ,black ,english ,white ,world ,many ,cinema ,new\n",
      "Topic #1: love ,father ,song ,music ,son ,songs ,dance ,mother ,musical ,town\n",
      "Topic #2: like ,bad ,good ,even ,really ,see ,movies ,acting ,would ,make\n",
      "Topic #3: killer ,seagal ,murder ,police ,steven ,serial ,sister ,scene ,murders ,sheriff\n",
      "Topic #4: action ,van ,fight ,vampire ,sequences ,roger ,vampires ,wilson ,franco ,hammer\n",
      "Topic #5: jack ,zombie ,island ,zombies ,band ,jones ,norris ,moore ,grudge ,tommy\n",
      "Topic #6: war ,world ,american ,german ,french ,british ,soldiers ,etc ,plane ,russian\n",
      "Topic #7: cover ,jim ,box ,captain ,crew ,mask ,air ,humans ,military ,filmmaker\n",
      "Topic #8: party ,lewis ,spanish ,devil ,los ,stan ,hardy ,angeles ,karen ,laurel\n",
      "Topic #9: show ,people ,episode ,series ,shows ,funny ,jokes ,episodes ,like ,comedy\n",
      "Topic #10: evan ,joseph ,johnson ,almighty ,facts ,sea ,tells ,care ,aside ,character\n",
      "Topic #11: would ,could ,book ,like ,time ,much ,good ,great ,better ,made\n",
      "Topic #12: man ,get ,like ,scene ,horror ,even ,back ,would ,time ,guy\n",
      "Topic #13: kids ,kid ,old ,parents ,dog ,child ,year ,family ,young ,disney\n",
      "Topic #14: documentary ,paul ,charlie ,ghost ,john ,kevin ,wayne ,river ,guard ,alex\n",
      "Topic #15: time ,comedy ,game ,original ,years ,even ,first ,two ,money ,back\n",
      "Topic #16: character ,children ,wife ,woman ,husband ,family ,love ,child ,suicide ,disturbing\n",
      "Topic #17: story ,characters ,character ,plot ,many ,interesting ,also ,well ,scenes ,rather\n",
      "Topic #18: hero ,ray ,sam ,wind ,partner ,fred ,wins ,kong ,rhett ,scarlett\n",
      "Topic #19: sci ,space ,steve ,fish ,italian ,martin ,blah ,trek ,bag ,impressed\n"
     ]
    }
   ],
   "source": [
    "from sklearn.decomposition import LatentDirichletAllocation\n",
    "\n",
    "lda = LatentDirichletAllocation(\n",
    "    n_components=n_topics,\n",
    "    max_iter=5,\n",
    "    learning_method=\"online\",\n",
    "    learning_offset=50.0,\n",
    "    random_state=0,\n",
    ")\n",
    "lda.fit(docs_tr)\n",
    "beta_sklearn = lda.components_ / lda.components_.sum(axis=1)[:, np.newaxis]\n",
    "\n",
    "print_top_words(beta_sklearn, feature_names)"
   ]
  },
  {
   "cell_type": "code",
   "execution_count": 11,
   "metadata": {},
   "outputs": [],
   "source": [
    "def calc_pp(ws, thetas, beta, wix):\n",
    "    \"\"\"\n",
    "    Parameters\n",
    "    ----------\n",
    "    ws: ndarray (N,)\n",
    "        Number of times the held-out word appeared in N documents.\n",
    "    thetas: ndarray, shape=(N, K)\n",
    "        Topic distributions for N documents.\n",
    "    beta: ndarray, shape=(K, V)\n",
    "        Word distributions for K topics.\n",
    "    wix: int\n",
    "        Index of the held-out word\n",
    "\n",
    "    Return\n",
    "    ------\n",
    "    Log probability of held-out words.\n",
    "    \"\"\"\n",
    "    return ws * np.log(thetas.dot(beta[:, wix]))\n",
    "\n",
    "\n",
    "def eval_lda(transform, beta, docs_te, wixs):\n",
    "    \"\"\"Evaluate LDA model by log predictive probability.\n",
    "\n",
    "    Parameters\n",
    "    ----------\n",
    "    transform: Python function\n",
    "        Transform document vectors to posterior mean of topic proportions.\n",
    "    wixs: iterable of int\n",
    "        Word indices to be held-out.\n",
    "    \"\"\"\n",
    "    lpss = []\n",
    "    docs_ = deepcopy(docs_te)\n",
    "    thetass = []\n",
    "    wss = []\n",
    "    total_words = 0\n",
    "    for wix in wixs:\n",
    "        ws = docs_te[:, wix].ravel()\n",
    "        if 0 < ws.sum():\n",
    "            # Hold-out\n",
    "            docs_[:, wix] = 0\n",
    "\n",
    "            # Topic distributions\n",
    "            thetas = transform(docs_)\n",
    "\n",
    "            # Predictive log probability\n",
    "            lpss.append(calc_pp(ws, thetas, beta, wix))\n",
    "\n",
    "            docs_[:, wix] = ws\n",
    "            thetass.append(thetas)\n",
    "            wss.append(ws)\n",
    "            total_words += ws.sum()\n",
    "        else:\n",
    "            thetass.append(None)\n",
    "            wss.append(None)\n",
    "\n",
    "    # Log-probability\n",
    "    lp = np.sum(np.hstack(lpss)) / total_words\n",
    "\n",
    "    return {\"lp\": lp, \"thetass\": thetass, \"beta\": beta, \"wss\": wss}"
   ]
  },
  {
   "cell_type": "code",
   "execution_count": 13,
   "metadata": {},
   "outputs": [],
   "source": [
    "def transform_sklearn(docs):\n",
    "    thetas = lda.transform(docs)\n",
    "    return thetas / thetas.sum(axis=1)[:, np.newaxis]\n",
    "\n",
    "\n",
    "# result_sklearn = eval_lda(\\\n",
    "#           transform_sklearn, beta_sklearn, docs_tr.toarray(), np.arange(100)\\\n",
    "#     )\n",
    "\n",
    "# print(\"Predictive log prob (sklearn) = {}\".format(result_sklearn[\"lp\"]))"
   ]
  },
  {
   "cell_type": "code",
   "execution_count": 14,
   "metadata": {},
   "outputs": [],
   "source": [
    "test = docs_te.toarray()\n",
    "real_ln = test.sum(1)\n",
    "# real_ln"
   ]
  },
  {
   "cell_type": "code",
   "execution_count": 17,
   "metadata": {},
   "outputs": [
    {
     "data": {
      "text/plain": [
       "(1000, 20)"
      ]
     },
     "execution_count": 17,
     "metadata": {},
     "output_type": "execute_result"
    }
   ],
   "source": [
    "theta_sklearn = transform_sklearn(test)\n",
    "theta_sklearn.shape"
   ]
  },
  {
   "cell_type": "code",
   "execution_count": 18,
   "metadata": {},
   "outputs": [
    {
     "data": {
      "text/plain": [
       "(1000, 3000)"
      ]
     },
     "execution_count": 18,
     "metadata": {},
     "output_type": "execute_result"
    }
   ],
   "source": [
    "rate = theta_sklearn.dot(beta_sklearn)\n",
    "rate.shape"
   ]
  },
  {
   "cell_type": "code",
   "execution_count": 23,
   "metadata": {},
   "outputs": [],
   "source": [
    "pp_test = (test * np.log(rate)).sum(1) / real_ln"
   ]
  },
  {
   "cell_type": "code",
   "execution_count": 24,
   "metadata": {},
   "outputs": [
    {
     "data": {
      "text/plain": [
       "-7.052385381790464"
      ]
     },
     "execution_count": 24,
     "metadata": {},
     "output_type": "execute_result"
    }
   ],
   "source": [
    "pp_test[real_ln > np.quantile(real_ln, 0.1)].mean()"
   ]
  },
  {
   "cell_type": "code",
   "execution_count": null,
   "metadata": {},
   "outputs": [],
   "source": []
  },
  {
   "cell_type": "code",
   "execution_count": 26,
   "metadata": {},
   "outputs": [
    {
     "data": {
      "text/plain": [
       "[<matplotlib.lines.Line2D at 0x7f0a789dae10>]"
      ]
     },
     "execution_count": 26,
     "metadata": {},
     "output_type": "execute_result"
    },
    {
     "data": {
      "image/png": "[encoded data removed]",
      "text/plain": [
       "<Figure size 432x288 with 1 Axes>"
      ]
     },
     "metadata": {
      "needs_background": "light"
     },
     "output_type": "display_data"
    }
   ],
   "source": [
    "plt.plot(real_ln, pp_test, 'o')"
   ]
  },
  {
   "cell_type": "code",
   "execution_count": null,
   "metadata": {},
   "outputs": [],
   "source": []
  }
 ],
 "metadata": {
  "kernelspec": {
   "display_name": "Python 3",
   "language": "python",
   "name": "python3"
  },
  "language_info": {
   "codemirror_mode": {
    "name": "ipython",
    "version": 3
   },
   "file_extension": ".py",
   "mimetype": "text/x-python",
   "name": "python",
   "nbconvert_exporter": "python",
   "pygments_lexer": "ipython3",
   "version": "3.7.7"
  }
 },
 "nbformat": 4,
 "nbformat_minor": 4
}
